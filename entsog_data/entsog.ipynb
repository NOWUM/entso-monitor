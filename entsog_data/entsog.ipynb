{
 "cells": [
  {
   "cell_type": "markdown",
   "metadata": {},
   "source": [
    "# ENTSO-G Daten\n",
    "\n",
    "Die Daten der European Network of Transmission System Operators for Gas (ENTSO-G) werden auf dem Transparenzportal veröffentlicht.\n",
    "\n",
    "Über eine API lassen sich die Daten, sowie Historiendaten abfragen.\n",
    "\n",
    "Das Projekt unterteilt sich zunächst in 3 Teile:\n",
    "\n",
    "1. Daten abfragen und speichern\n",
    "2. Daten aufbereiten\n",
    "3. Daten visualisieren\n",
    "\n",
    "Im Gegensatz zu den ENTSO-E Daten gibt es hierbei noch keinerlei Web-Frontends, welche die Daten visualisieren"
   ]
  },
  {
   "cell_type": "markdown",
   "metadata": {},
   "source": [
    "<h1 id=\"tocheading\">Inhaltsverzeichnis</h1>\n",
    "<div id=\"toc\"></div>\n",
    "<script src=\"http://ajax.googleapis.com/ajax/libs/jquery/1.7.1/jquery.min.js\" type=\"text/javascript\"></script>\n",
    "<script src=\"https://kmahelona.github.io/ipython_notebook_goodies/ipython_notebook_toc.js\"></script>"
   ]
  },
  {
   "cell_type": "code",
   "execution_count": null,
   "metadata": {},
   "outputs": [],
   "source": [
    "%%javascript\n",
    "//erzeugt Inhaltsverzeichnis\n",
    "//https://github.com/kmahelona/ipython_notebook_goodies\n",
    "$.getScript('https://kmahelona.github.io/ipython_notebook_goodies/ipython_notebook_toc.js')"
   ]
  },
  {
   "cell_type": "markdown",
   "metadata": {},
   "source": [
    "## Begriffserklärungen\n",
    "\n",
    "* Bidding zones sind die Marktgebiete. Um zwischen Marktgebieten Gas zu transferieren müssen die Gas-Pipelines gebucht werden. \n",
    "* Jedes Land hat sein eigenes Marktgebiet (mit Ausnahmen, bspw hat DE bis 2021 noch 2 [NCG und GASPOOL])\n",
    "* In einem Marktgebiet gibt es verschiedene Operatoren, welche das Gasnetz betreiben\n",
    "* Es gibt L-Gas und H-Gas, welche unterschiedlich gebucht und transferiert werden\n",
    "* Jede Pipeline hat einen Entry und einen Exit. Gas fließt immer in eine Richtung\n",
    "\n",
    "## Bedienung der Plots\n",
    "\n",
    "Die Plots wurden mit Plotly erstellt.\n",
    "\n",
    "* Diese Bibliothek erlaubt es durch anklicken in der Legende eine Datenreihe auszublenden.\n",
    "* Durch ein Doppelklick auf eine Datenreihe kann eine Datenreihe isoliert betrachtet werden. Anschließend können weitere zu betrachtene Datenreihen ausgewählt werden\n",
    "* Durch ziehen eines Intervalls, kann man einen genaueren Betrachtungsraum auswählen. Ein Doppelklick in das Diagramm springt wieder zum Ursprungsbereich"
   ]
  },
  {
   "cell_type": "markdown",
   "metadata": {},
   "source": [
    "So gibt es bspw. die Pipeline \"Nord Stream\""
   ]
  },
  {
   "cell_type": "markdown",
   "metadata": {},
   "source": [
    "# Datenbeschaffung\n",
    "\n",
    "Die Daten können über die API in CSV, JSON oder XML runtergeladen werden.\n",
    "\n",
    "Tabellarische Daten lassen sich davon am effizientesten als CSV darstellen, weshalb dieses Format gewählt wurde.\n",
    "\n",
    "Diese werden anschließend in eine Parquet-Datei gespeichert.\n",
    "Darüber können wir nun über die Historien-Daten zugreifen.\n",
    "\n",
    "Die Daten der ENTSO-G stehen in diesem Format über die API seit 2017 zur Verfügung."
   ]
  },
  {
   "cell_type": "code",
   "execution_count": null,
   "metadata": {},
   "outputs": [],
   "source": [
    "import pandas as pd\n",
    "import plotly.graph_objects as go\n",
    "aggData = pd.read_csv('https://transparency.entsog.eu/api/v1/AggregatedData.csv?limit=1000')\n",
    "interconn = pd.read_csv('https://transparency.entsog.eu/api/v1/Interconnections.csv?limit=-1')\n",
    "# the connectionpoints contain invalid data, as each line ends with an extra seperator\n",
    "conn = pd.read_csv('https://transparency.entsog.eu/api/v1/connectionpoints.csv?limit=-1',index_col=False)"
   ]
  },
  {
   "cell_type": "code",
   "execution_count": null,
   "metadata": {},
   "outputs": [],
   "source": [
    "import requests\n",
    "csv = requests.get('https://transparency.entsog.eu/api/v1/connectionpoints.csv?limit=-1')\n",
    "cleaned = csv.text.replace('commercialType,importFromCountryKey','installation,commercialType,importFromCountryKey')\n",
    "from io import StringIO\n",
    "fileLike = StringIO(cleaned)\n",
    "conn = pd.read_csv(fileLike)"
   ]
  },
  {
   "cell_type": "code",
   "execution_count": null,
   "metadata": {},
   "outputs": [],
   "source": [
    "jsn = requests.get('https://transparency.entsog.eu/api/v1/connectionpoints.json?limit=-1')\n",
    "conn = pd.DataFrame(jsn.json()['connectionpoints'])\n"
   ]
  },
  {
   "cell_type": "markdown",
   "metadata": {},
   "source": [
    "Zum Herunterladen der Daten wurde eine Python Klasse geschrieben, welche die Daten für einen gebenen Bereich von der Api lädt. Diese werden anschließend sowohl in einer SQLite Datenbank, wie auch in Parquet-Dateien mithilfe von Spark gespeichert.\n",
    "\n",
    "Die Datenstruktur sieht wie folgt aus:\n",
    "\n",
    "![Datenbank-Struktur](Diagrams-ENTSO-G.png)\n",
    "\n",
    "Um auf die Daten nachfolgend zuzugreifen verwenden wir Spark"
   ]
  },
  {
   "cell_type": "code",
   "execution_count": null,
   "metadata": {},
   "outputs": [],
   "source": [
    "import findspark\n",
    "\n",
    "findspark.init()\n",
    "from pyspark import SparkConf\n",
    "from pyspark.sql import SparkSession\n",
    "import pandas as pd\n",
    "\n",
    "conf = SparkConf().setAppName('entsog').setMaster('local')\n",
    "spark = SparkSession.builder.config(conf=conf).getOrCreate()\n",
    "spark"
   ]
  },
  {
   "cell_type": "code",
   "execution_count": null,
   "metadata": {},
   "outputs": [],
   "source": [
    "sparkfolder='data/entsog_spark'"
   ]
  },
  {
   "cell_type": "markdown",
   "metadata": {},
   "source": [
    "Nun Lesen wir die Daten aus dem Spark-Daten-Ordner"
   ]
  },
  {
   "cell_type": "code",
   "execution_count": null,
   "metadata": {
    "scrolled": true
   },
   "outputs": [],
   "source": [
    "interconnections = spark.read.parquet(f\"{sparkfolder}/Interconnections.parquet\")\n",
    "balancingzones = spark.read.parquet(f\"{sparkfolder}/balancingzones.parquet\")\n",
    "opdata = spark.read.parquet(f\"{sparkfolder}/operationaldata\")\n",
    "oppointdirs = spark.read.parquet(f\"{sparkfolder}/operatorpointdirections.parquet\")\n",
    "operas = spark.read.parquet(f\"{sparkfolder}/operators.parquet\")\n",
    "connectionpoints = spark.read.parquet(f\"{sparkfolder}/connectionpoints.parquet\")"
   ]
  },
  {
   "cell_type": "code",
   "execution_count": null,
   "metadata": {},
   "outputs": [],
   "source": [
    "# generalRemarks must be deleted as column contains different datatypes\n",
    "\n",
    "# structure files in parquet, so that hierarchy is better:\n",
    "#%time opdata.drop('generalRemarks').write.partitionBy(['year','month']).parquet(f\"{sparkfolder}/operationaldata_cleaned\")"
   ]
  },
  {
   "cell_type": "code",
   "execution_count": null,
   "metadata": {},
   "outputs": [],
   "source": [
    "# converting time column to be grouped by a given period works as easy as this:\n",
    "from pyspark.sql.functions import date_trunc\n",
    "opdata = ( opdata.withColumn(\"day\", date_trunc('day',\"periodFrom\"))\n",
    "          .withColumn(\"hour\", date_trunc('hour',\"periodFrom\"))\n",
    "         )"
   ]
  },
  {
   "cell_type": "code",
   "execution_count": null,
   "metadata": {},
   "outputs": [],
   "source": [
    "# selecting only necessary stuff from static tables\n",
    "inter= interconnections.select(['pointlabel','pointTpMapX','pointTpMapY','fromCountryKey','fromoperatorkey','frombzlabel','frombzlabel','tooperatorlabel','toCountryKey','pointkey','toPointKey','topointlabel']).toPandas()\n",
    "balancing= balancingzones.select(['bzLabel','tpMapX','tpMapY']).toPandas()\n",
    "conne = (connectionpoints.withColumn(\"long\", connectionpoints.tpMapX)\n",
    "        .withColumn(\"lat\", connectionpoints.tpMapY)\n",
    "        .select(['pointkey','lat','long','infrastructureLabel']).toPandas()\n",
    "       )\n",
    "ops=operas.select(['operatorkey','operatorLabel','operatorCountryKey','operatorTypeLabelLong']).toPandas()"
   ]
  },
  {
   "cell_type": "code",
   "execution_count": null,
   "metadata": {
    "scrolled": false
   },
   "outputs": [],
   "source": [
    "# show small table of available operators\n",
    "import plotly.graph_objects as go\n",
    "fig = go.Figure(data=[go.Table(\n",
    "    header=dict(values=['operatorkey','Betreiber Bezeichnung','Land des Betreibers','Art des Betreibers'],\n",
    "                fill_color='paleturquoise',\n",
    "                align='left'),\n",
    "    cells=dict(values=[ops.operatorKey, ops.operatorLabel, ops.operatorCountryKey, ops.operatorTypeLabelLong],\n",
    "               fill_color='lavender',\n",
    "               align='left'))\n",
    "])\n",
    "\n",
    "fig.show()"
   ]
  },
  {
   "cell_type": "markdown",
   "metadata": {},
   "source": [
    "Zu sehen ist hier eine Liste aller Operators und ihrer Länder.  \n",
    "Während diese Liste nicht durchsuchbar ist, ist die DataTable im Dashboard auch durchsuchbar."
   ]
  },
  {
   "cell_type": "markdown",
   "metadata": {},
   "source": [
    "Die Interconnections und Bidding Zonen haben sogar auch X und Y Daten. Diese sind leider nicht in Koordinaten-Form zu bringen. Keine Projektion oder Verdrehung brachte ein ordentliches Bild.\n",
    "\n",
    "Das Problem wurde anschließend gelöst, indem die Map-Tile Bilder direkt von dem ENTSO-G Server herunter geladen wurden und das Kartenmaterial nun selbst lokal gehostet wird. Das Erstellen der Grafiken ist nachfolgend beschrieben:"
   ]
  },
  {
   "cell_type": "markdown",
   "metadata": {},
   "source": [
    "## Kartenmaterialbeschaffung und Visualisierungen\n",
    "\n",
    "Die Kartendaten laden wir direkt von deren Server runter, nachdem festgestellt wurde, dass die X und Y Punkte nicht auf eine klassische Merkator Projektion passen. <br/>\n",
    "Hier gibt es 5 Zoomstufen, für die jeweils Kartenmaterial als Bilddatei heruntergeladen werden kann.<br/>\n",
    "Außerdem gibt es verschiedene Overlays für Karten, welche angezeigt werden können.\n",
    "\n",
    "Leider sind die Daten im TMS-Format, das heißt, dass die Y-Achse invertiert ist.\n",
    "\n",
    "Für mehr Informationen, siehe hier: https://gist.github.com/tmcw/4954720\n",
    "\n",
    "Dort ist auch beschrieben, wie man diese Daten in das XYZ konvertieren kann. Das ist notwendig, da Plotly TMS leider [nicht unterstützt](https://github.com/plotly/plotly.py/issues/1610)"
   ]
  },
  {
   "cell_type": "code",
   "execution_count": null,
   "metadata": {},
   "outputs": [],
   "source": [
    "layers = []\n",
    "\n",
    "routes = ['countries_zones','pipelines_small_medium_large','pipelines_medium_large','pipelines_large','drilling_platforms','gasfields','projects','country_names']\n",
    "routes = ['countries_zones','pipelines_small_medium_large','country_names']\n",
    "\n",
    "for route in routes:\n",
    "    layers.append({   \"below\": 'traces',\n",
    "                \"sourcetype\": \"raster\",\n",
    "                \"sourceattribution\": '<a href=\"https://transparency.entsog.eu/#/map\">ENTSO-G Data</a>',\n",
    "                \"source\": [\n",
    "                    \"https://datensch.eu/cdn/entsog/\"+route+\"/{z}/{x}/{y}.png\"]})"
   ]
  },
  {
   "cell_type": "markdown",
   "metadata": {},
   "source": [
    "### Karte der Grenz-Verbindungen"
   ]
  },
  {
   "cell_type": "code",
   "execution_count": null,
   "metadata": {
    "scrolled": false
   },
   "outputs": [],
   "source": [
    "inter_border= inter[inter['fromCountryKey'] !=inter['toCountryKey']]\n",
    "\n",
    "import plotly.express as px\n",
    "fig = px.scatter_mapbox(inter_border, lat=\"pointTpMapY\", lon=\"pointTpMapX\", hover_name=\"pointlabel\", color='fromCountryKey',hover_data=[\"pointKey\", \"fromCountryKey\",'fromoperatorkey','tooperatorlabel',\"toCountryKey\"],\n",
    "                        zoom=1, height=600)\n",
    "fig.update_layout(title=\"Karte der Verbindungspunkte mit Grenzübergang\",mapbox_style=\"white-bg\",mapbox_layers=layers,margin={\"r\":0,\"l\":0,\"b\":0})\n",
    "fig.show()"
   ]
  },
  {
   "cell_type": "markdown",
   "metadata": {},
   "source": [
    "### Karte aller Verbindungspunkte\n",
    "\n",
    "Über die HoverData können die sichtbaren Felder ausgewählt werden.\n",
    "\n",
    "Im finalen Dashboard wird stattdessen der Anzeigetext verändert"
   ]
  },
  {
   "cell_type": "code",
   "execution_count": null,
   "metadata": {},
   "outputs": [],
   "source": [
    "import plotly.express as px\n",
    "#import plotly.graph_objects as go\n",
    "fig = px.scatter_mapbox(conne, lat=\"lat\", lon=\"long\", hover_name=\"pointKey\", hover_data=[\"infrastructureLabel\"],color=\"infrastructureLabel\",\n",
    "                        zoom=1, height=600,title='Karte der Verbindungspunkte')\n",
    "fig.update_layout(mapbox_style=\"white-bg\",mapbox_layers=layers,margin={\"r\":0,\"t\":0,\"l\":0,\"b\":0})\n",
    "fig.show()"
   ]
  },
  {
   "cell_type": "markdown",
   "metadata": {},
   "source": [
    "### Karte der Marktgebiete"
   ]
  },
  {
   "cell_type": "code",
   "execution_count": null,
   "metadata": {},
   "outputs": [],
   "source": [
    "import plotly.express as px\n",
    "#import plotly.graph_objects as go\n",
    "fig = px.scatter_mapbox(balancing, lat=\"tpMapY\", lon=\"tpMapX\", hover_name=\"bzLabel\", #color='bzLabel',\n",
    "                        color_discrete_sequence=[\"fuchsia\"], zoom=1, height=600,title='Karte der Marktgebiete')\n",
    "fig.update_layout(title=\"Karte der Marktgebiete\", mapbox_style=\"white-bg\",mapbox_layers=layers,margin={\"r\":0,\"l\":0,\"b\":0})\n",
    "fig.show()\n"
   ]
  },
  {
   "cell_type": "markdown",
   "metadata": {},
   "source": [
    "Man könnte hier nun auch ein GeoJSON erstellen um eine Chloropleth Karte der Gebiete zu erstellen, hierzu müsste man auf https://geojson.io das Kartenmaterial als Layer einbinden und die Polygone der Marktgebiete einzeichnen."
   ]
  },
  {
   "cell_type": "markdown",
   "metadata": {},
   "source": [
    "# Auswertungen\n",
    "\n",
    "Neben diesem Nebenschauplatz der Kartografie, besteht natürlich auch der Hauptteil, welcher das Herunterladen, strukturieren und abfragen der Daten beinhaltet.\n",
    "\n",
    "Die Daten können nun über die API herunter geladen werden und in einer Datenbank oder Parquet-Datei abgespeichert werden.\n",
    "\n",
    "Insgesamt haben die Daten bereits eine gute Qualität und ein relationales Format, dennoch gibt es einige Fallstricke die man beachten muss.\n",
    "So gibt es Pipe-in-Pipe Verbindungen, welche bei Nichtbeachtung eine doppelte Buchung abgeben.\n",
    "\n",
    "Nach herausfiltern gibt es an diesen Punkten dennoch größere Unstimmigkeiten die bisher nicht erklärt werden konnten. Dazu wird eine tiefergehende Datenanalyse benötigt.\n",
    "\n",
    "Diese ist jedoch nicht Teil des Projekts, kann mit dem bereitgestellten Dashboard jedoch gut durchgeführt werden.\n",
    "\n",
    "Kommen wir erstmal zurück zu den Gasdatenflüssen, die wir Visualisieren möchten.\n",
    "\n",
    "Die Daten stehen uns erstmal zur Verfügung im folgenden Intervall:"
   ]
  },
  {
   "cell_type": "code",
   "execution_count": null,
   "metadata": {},
   "outputs": [],
   "source": [
    "beg=opdata.select('periodFrom').rdd.min()\n",
    "end=opdata.select('periodFrom').rdd.max()\n",
    "\n",
    "print('Datensequenz von {} bis {}'.format(beg[0],end[0]))"
   ]
  },
  {
   "cell_type": "code",
   "execution_count": null,
   "metadata": {},
   "outputs": [],
   "source": [
    "# erzeugen der operator daten\n",
    "%time operators=opdata.select('operatorkey','operatorLabel').distinct().toPandas()"
   ]
  },
  {
   "cell_type": "code",
   "execution_count": null,
   "metadata": {},
   "outputs": [],
   "source": [
    "from pyspark.sql.functions import date_trunc\n",
    "# pandas data frame (pdf)\n",
    "pdf =(\n",
    "    opdata.withColumn(\"day\", date_trunc('day',\"periodFrom\"))\n",
    "    .withColumn(\"month\", date_trunc('month',\"periodFrom\"))\n",
    "    .withColumn(\"year\", date_trunc('year',\"periodFrom\"))\n",
    ").select('operatorLabel','operatorkey','year','month','value').groupby(['operatorkey','operatorLabel','month']).sum('value')\n",
    "\n",
    "# wird erst im toPandas ausgeführt. Dauert jedoch seehr lange\n",
    "%time pdf = pdf.toPandas()"
   ]
  },
  {
   "cell_type": "code",
   "execution_count": null,
   "metadata": {},
   "outputs": [],
   "source": [
    "operators.sort_values('operatorKey')\n",
    "singleTso = (opdata.withColumn(\"day\", date_trunc('day',\"periodFrom\"))\n",
    "     .select(['value','day'])\n",
    "     .filter('operatorKey = \"DE-TSO-0013\"')\n",
    "     .groupby('day').sum('value').sort(\"day\")\n",
    "    )\n",
    "%time singleTso=  singleTso.toPandas()"
   ]
  },
  {
   "cell_type": "code",
   "execution_count": null,
   "metadata": {},
   "outputs": [],
   "source": [
    "import plotly.express as px\n",
    "print(operators[operators['operatorKey']=='DE-TSO-0013'])"
   ]
  },
  {
   "cell_type": "code",
   "execution_count": null,
   "metadata": {},
   "outputs": [],
   "source": [
    "px.line(singleTso,x='day',y='sum(value)',title='Gefördertes Gas von Jordgas Transport',labels={'day':'Zeit','sum(value)':'gefördertes Gas in MWh'})"
   ]
  },
  {
   "cell_type": "code",
   "execution_count": null,
   "metadata": {},
   "outputs": [],
   "source": [
    "monthly_data= pdf.pivot(index='month', columns='operatorLabel',values='sum(value)')\n",
    "px.line(monthly_data, title='Gefördertes Gas pro Monat in kWh nach Betreiber',labels={'month':'Zeit','value':'gefördertes Gas in kWh'})"
   ]
  },
  {
   "cell_type": "markdown",
   "metadata": {},
   "source": [
    "Hier ist zu sehen, dass es in den Daten auch größere Unstimmigkeiten gibt, die durch fehlerhafte Dateneingaben in die Transparenz-Plattform entstanden sind"
   ]
  },
  {
   "cell_type": "markdown",
   "metadata": {},
   "source": [
    "## Verlauf der Nordstream\n",
    "\n",
    "Auslastung"
   ]
  },
  {
   "cell_type": "markdown",
   "metadata": {},
   "source": [
    "Die Nord Stream hat als interne Bezeichnung den pointKey ITP-00120.\n",
    "Sie fördert Gas von RU nach DE.\n",
    "Genau genommen zu den PointKeys \n",
    "\n",
    "* ITP-00491 (Greifswald)\n",
    "* ITP-00250 (Greifswald)\n",
    "* ITP-00251 (Gw-Opal)? Wird hier aus der OPAL eingespeist? Unsinn?\n",
    "* ITP-00247 (Greifswald)\n",
    "* ITP-00297 (Greifswald)\n",
    "* ITP-00454 (Lubmin, reguliert)\n",
    "\n",
    "Diese Punkte erhalten Gas von der Nordstream und liegen allesamt in Deutschland.\n",
    "\n",
    "Die BZ erhält man aus den Interconnections, allerdings nur für die (tote) Leitung von RU nach DE: GASPOOL\n",
    "Die Datenlage mit Punkten außerhalb der EU ist hier sehr schlechter\n"
   ]
  },
  {
   "cell_type": "markdown",
   "metadata": {},
   "source": [
    "### Relevante Knoten"
   ]
  },
  {
   "cell_type": "code",
   "execution_count": null,
   "metadata": {},
   "outputs": [],
   "source": [
    "inter[(inter.tooperatorlabel=='Nord Stream')|(inter.fromoperatorkey=='Nord Stream')]"
   ]
  },
  {
   "cell_type": "code",
   "execution_count": null,
   "metadata": {},
   "outputs": [],
   "source": [
    "pips =list(inter[(inter.tooperatorlabel=='Nord Stream')|(inter.fromoperatorkey=='Nord Stream')].toPointKey)\n",
    "pips"
   ]
  },
  {
   "cell_type": "code",
   "execution_count": null,
   "metadata": {},
   "outputs": [],
   "source": [
    "%time d= opdata.filter(opdata.pointKey.isin(pips)).groupby(['pointkey','directionkey','day']).sum('value').toPandas()"
   ]
  },
  {
   "cell_type": "code",
   "execution_count": null,
   "metadata": {
    "scrolled": true
   },
   "outputs": [],
   "source": [
    "%time january = opdata.filter('\"2018-01-01\" <= day and day < \"2019-02-01\"').filter(opdata.pointKey.isin(pips)).groupby(['pointkey','pointlabel','directionkey','hour']).sum('value').toPandas()"
   ]
  },
  {
   "cell_type": "code",
   "execution_count": null,
   "metadata": {},
   "outputs": [],
   "source": [
    "p = january.pivot(index='hour', columns=['pointlabel','directionkey'],values='sum(value)')\n",
    "p.columns=list(map(lambda x: '_'.join(x),p.columns))\n",
    "fig = px.line(p,title='Durchsatz der Nordstream Pipeline')\n",
    "fig.update_layout( xaxis_title='Zeit',\n",
    "                   yaxis_title='Durchsatz in kWh pro Tag')\n",
    "fig.show()"
   ]
  },
  {
   "cell_type": "markdown",
   "metadata": {},
   "source": [
    "## Visualisierung des physischen Flusses als Widget mit SQLite\n",
    "\n",
    "Nun möchten wir ein etwas interaktiveres Widget erstellen, bei dem man die Zone auswählen kann für die man den physischen Fluss visualisieren möchte.\n",
    "\n",
    "Der nachfolgende Source-Code beschreibt das Filtern und auswählen der Daten mithilfe von SQLite.\n",
    "\n",
    "Die Daten pro Zone werden berechnet, indem die Summe aller Pipelines in dieser Zone berechnet wird. Das ist sehr aufwändig"
   ]
  },
  {
   "cell_type": "code",
   "execution_count": null,
   "metadata": {},
   "outputs": [],
   "source": [
    "import sqlite3\n",
    "from contextlib import closing\n",
    "import pandas as pd\n",
    "from entsog_data_manager import Filter\n",
    "from datetime import datetime, date, timedelta\n",
    "\n",
    "ftime = {'day': '%Y-%m-%d',\n",
    "         'month': '%Y-%m-01',\n",
    "         'year': '%Y-01-01',\n",
    "         'hour': '%Y-%m-%d %H:00:00',\n",
    "         'minute': '%Y-%m-%d %H:%M:00'}\n",
    "\n",
    "def timeFilter(filt: Filter):\n",
    "    return f'\"{filt.begin.strftime(\"%Y-%m-%d\")}\" < periodFrom and periodFrom < \"{filt.end.strftime(\"%Y-%m-%d\")}\"'"
   ]
  },
  {
   "cell_type": "code",
   "execution_count": null,
   "metadata": {},
   "outputs": [],
   "source": [
    "def getData(name,filt: Filter, direction=None):\n",
    "    conn = sqlite3.connect('data/Firm Technical.db')\n",
    "    \n",
    "    selectString = f\"strftime('{ftime[filt.groupby]}', periodFrom) as time, sum(value) as 'value'\"\n",
    "    whereString = f\" directionkey='{direction}' and adjacentSystemsLabel='{name}' and {timeFilter(filt)}\"\n",
    "    groupString = f'strftime(\"{ftime[filt.groupby]}\", \"time\")'\n",
    "    \n",
    "    if direction:\n",
    "        query = f\"SELECT {selectString} FROM AggregatedData WHERE {whereString} group by  {groupString}\"\n",
    "    else:\n",
    "        query = \"select value-exit_value as diff,a.periodFrom,value, exit_value from (SELECT periodFrom,value FROM AggregatedData WHERE directionkey='entry' and adjacentSystemsLabel='\"+name+\"') a\"\n",
    "        query += \" join (select periodFrom,value as exit_value from AggregatedData where directionkey='exit' and adjacentSystemsLabel='\"+name+\"') b on a.periodFrom = b.periodFrom\"\n",
    "        #query += \" where a.periodFrom < '2018-01-01'\"\n",
    "        #and operatorKey='BE-TSO-0001'\n",
    "    df = pd.read_sql_query(query,conn)\n",
    "    #df['begin']=pd.to_datetime(df['periodFrom']).dt.to_period('M').dt.to_timestamp()\n",
    "    #df['begin']=pd.to_datetime(df['periodFrom']).dt.floor('d')\n",
    "\n",
    "\n",
    "\n",
    "    return df\n",
    "\n",
    "def update(name,filt):\n",
    "    entrys = getData(name,filt,'entry')\n",
    "    exits = getData(name,filt,'exit')\n",
    "    diff = entrys['value']-exits['value']\n",
    "    entrys['diff']= diff\n",
    "    entrys['exit']=exits['value']\n",
    "    return entrys\n",
    "\n",
    "#operatorKey\n",
    "with closing(sqlite3.connect('data/Firm Technical.db')) as conn:\n",
    "    #operators2 = pd.read_sql_query('select distinct operatorKey,operatorLabel from AggregatedData',conn)\n",
    "    #operators = pd.read_sql_query('select distinct adjacentSystemsKey,adjacentSystemsLabel from AggregatedData',conn)\n",
    "    \n",
    "    #operators.to_sql('operators',conn)\n",
    "    #operators2.to_sql('operators2',conn)\n",
    "    operators = pd.read_sql('select * from operators', conn)\n",
    "    operators2 = pd.read_sql('select * from operators2',conn)\n",
    "    \n",
    "filt = Filter(datetime(2018, 4, 1), datetime(2018, 7, 2), 'day')\n",
    "%time data = update('NCG',filt)"
   ]
  },
  {
   "cell_type": "code",
   "execution_count": null,
   "metadata": {},
   "outputs": [],
   "source": [
    "import plotly.graph_objects as go\n",
    "from ipywidgets import widgets\n",
    "\n",
    "month = widgets.IntSlider(\n",
    "    value=1.0,\n",
    "    min=1.0,\n",
    "    max=12.0,\n",
    "    step=1.0,\n",
    "    description='Month:',\n",
    "    continuous_update=False\n",
    ")\n",
    "\n",
    "use_date = widgets.Checkbox(\n",
    "    description='Date: ',\n",
    "    value=True,\n",
    ")\n",
    "\n",
    "container = widgets.HBox(children=[use_date, month])\n",
    "\n",
    "textbox = widgets.Dropdown(\n",
    "    description='Operators:   ',\n",
    "    value=operators['operators'][0],\n",
    "    options=operators['operators'].tolist()\n",
    ")\n",
    "\n",
    "\n",
    "trace1 = go.Scatter(x=data['time'],y=data['value'],name='importiertes Gas')#,mode='markers')\n",
    "trace2 = go.Scatter(x=data['time'],y=data['exit'],name='exportiertes Gas')#,mode='markers')\n",
    "trace3 = go.Scatter(x=data['time'],y=data['diff'],name='dem Gebiet beigefügtes Gas')#,mode='markers')\n",
    "               #hover_name=\"bzLabel\", hover_data=[\"bzTooltip\", \"id\"])    \n",
    "# Assign an empty figure widget with two traces\n",
    "#trace1 = go.Histogram(x=df['arr_delay'], opacity=0.75, name='Arrival Delays')\n",
    "#trace2 = go.Histogram(x=df['dep_delay'], opacity=0.75, name='Departure Delays')\n",
    "g = go.FigureWidget(data=[trace1, trace2,trace3],\n",
    "                    layout=go.Layout(\n",
    "                        title=dict(\n",
    "                            text='ENTSOG Physical Flow'\n",
    "                        ),\n",
    "                        xaxis=dict(title='Datum'),\n",
    "                        yaxis=dict(title='gefördertes Gas in kWh')\n",
    "                        #barmode='overlay'\n",
    "                    ))\n",
    "\n",
    "def validate():\n",
    "    if textbox.value in operators['operators'].to_list():\n",
    "        return True\n",
    "    else:\n",
    "        return False\n",
    "\n",
    "import time\n",
    "def response(change):\n",
    "    if validate():\n",
    "        print('updating...')\n",
    "        t = time.time()\n",
    "        temp_df = update(textbox.value,filt=filt)\n",
    "        x1 = temp_df['value']\n",
    "        x2 = temp_df['exit']\n",
    "        x3 = temp_df['diff']\n",
    "        print('finished updating', time.time()-t)\n",
    "        with g.batch_update():\n",
    "            g.data[0].y = x1\n",
    "            g.data[1].y = x2\n",
    "            g.data[2].y = x3\n",
    "            #g.layout.xaxis.title = 'Datum'\n",
    "            #g.layout.yaxis.title = 'gefördertes Gas in kWh'\n",
    "    else:\n",
    "        print('Invalid name: ', textbox.value)\n",
    "\n",
    "textbox.observe(response, names=\"value\")"
   ]
  },
  {
   "cell_type": "code",
   "execution_count": null,
   "metadata": {},
   "outputs": [],
   "source": [
    "widgets.VBox([widgets.HBox([textbox]),\n",
    "              g])"
   ]
  },
  {
   "cell_type": "markdown",
   "metadata": {},
   "source": [
    "Das Widget ist in der HTML Version leider nicht verfügbar\n",
    "\n",
    "# Analysen\n",
    "\n",
    "Nachfolgend wurden einige Analysen mithilfe des SQLite Zugriffsobjekts erstellt.\n",
    "\n",
    "Die Performance ist hierbei erheblich besser als mit Spark/Parquet"
   ]
  },
  {
   "cell_type": "markdown",
   "metadata": {},
   "source": [
    "## Visualisierungen des Physical Flows"
   ]
  },
  {
   "cell_type": "markdown",
   "metadata": {},
   "source": [
    "In der Datenbank enthält jeder Eintrag einen zugehörigen Wert und Operator. So ist es möglich, dass nicht alle operators zu jeder Stunde einen Eintrag haben.\n",
    "\n",
    "Die Darstellung mit einer Spalte pro Operator wird durch pandas.pivot erzeugt.\n",
    "Damit kann sehr einfach ein Plot erzeugt werden.\n",
    "\n",
    "Nachfolgend wird der physische Fluss von mehreren Operators visualisiert, sowie am Punkt Eynatten in Lichtenbusch"
   ]
  },
  {
   "cell_type": "code",
   "execution_count": null,
   "metadata": {},
   "outputs": [],
   "source": [
    "from entsog_sqlite_manager import EntsogSQLite\n",
    "from entsog_data_manager import Filter\n",
    "from datetime import datetime, date, timedelta\n",
    "import pandas as pd\n",
    "import plotly.express as px"
   ]
  },
  {
   "cell_type": "code",
   "execution_count": null,
   "metadata": {},
   "outputs": [],
   "source": [
    "entsog = EntsogSQLite('data/entsog.db')\n",
    "operators = entsog.operators()\n",
    "\n",
    "start = datetime(2018, 7, 1)\n",
    "end = datetime(2018, 7, 22)\n",
    "group = 'hour'\n",
    "filt = Filter(start, end, group)\n",
    "balzones = entsog.balancingzones()\n",
    "intercon = entsog.interconnections()\n",
    "cpp = entsog.connectionpoints()\n",
    "#gen = generation.melt(var_name='kind', value_name='value',ignore_index=False)\n",
    "\n",
    "# GRTD, GUD, GTG, Fluxys\n",
    "operatorKeys = ['DE-TSO-0004', 'DE-TSO-0007', 'DE-TSO-0005', 'DE-TSO-0006']\n",
    "\n",
    "phy = entsog.operationaldata(operatorKeys, filt)\n",
    "piv = phy.pivot(columns=['operatorkey', 'directionkey'], values='value')\n",
    "piv.plot(rot=45, title='Physical flow of selected operators by direction',figsize=(10,6))"
   ]
  },
  {
   "cell_type": "markdown",
   "metadata": {},
   "source": [
    "### Flow der Punkte in Eynatten/Lichtenbusch"
   ]
  },
  {
   "cell_type": "code",
   "execution_count": null,
   "metadata": {},
   "outputs": [],
   "source": [
    "point = entsog.operationaldataByPoints(\n",
    "        ['ITP-00043', 'ITP-00111'], Filter(start, end, group), ['pointkey', 'directionkey'])\n",
    "point['point'] = point['pointlabel']+' ' + \\\n",
    "    point['directionkey']+' '+point['indicator']\n",
    "point['value'] = point['value']/1e6\n",
    "piv2 = point.pivot(columns=['point'], values='value')\n",
    "piv2.plot(rot=45, title='Physical flow of selected points by direction',figsize=(15,6))"
   ]
  },
  {
   "cell_type": "markdown",
   "metadata": {},
   "source": [
    "### Physischer Fluss Portugal, nach Art des Messpunktes\n",
    "\n",
    "Die Abkürzungen sind hier:\n",
    "* ITP - Inter Transmission Point\n",
    "* LNG - LNG Terminal (Flüssigerdgas)\n",
    "* UGS - Underground storage\n",
    "* DIS - Distribution\n",
    "* FNC - Final Consumers"
   ]
  },
  {
   "cell_type": "code",
   "execution_count": null,
   "metadata": {},
   "outputs": [],
   "source": [
    "end = datetime(2018, 7, 2)\n",
    "filt = Filter(start, end, 'hour')\n",
    "operatorKeys = entsog.operatorsByBZ('Italy')\n",
    "\n",
    "operatorKeys = entsog.operatorsByBZ('Portugal')\n",
    "bil = entsog.bilanz(operatorKeys, filt)\n",
    "bil.plot(rot=45, title='netto Physical flow of Portugal seperated by distribution kind',figsize=(10,6))"
   ]
  },
  {
   "cell_type": "markdown",
   "metadata": {},
   "source": [
    "### Physischer Fluss zu Nachbar-Regionen von GASPOOL"
   ]
  },
  {
   "cell_type": "code",
   "execution_count": null,
   "metadata": {},
   "outputs": [],
   "source": [
    "operatorKeys = entsog.operatorsByBZ('GASPOOL')\n",
    "c = entsog.crossborder(operatorKeys, filt)\n",
    "c.plot(rot=45, title='Transferred physical flow of GASPOOL',figsize=(10,6))"
   ]
  },
  {
   "cell_type": "markdown",
   "metadata": {},
   "source": []
  },
  {
   "cell_type": "markdown",
   "metadata": {},
   "source": [
    "## Abweichungen des Physical Flows zu den Allokationen am Beispiel NCG\n",
    "\n",
    "Neben dem Physischen Fluss (dem was tatsächlich durchgegangen ist), gibt es auch noch die Allokationen (was angemeldet wurde, was durchläuft). \n",
    "In der Theorie muss hier bei Summenbildung ähnliche Werte zustande kommen.\n",
    "\n",
    "In der Praxis kommt es hierbei jedoch zu Unstimmigkeiten und Verschiebungen. Jedoch ist eine generelle Ähnlichkeit des Verlaufs ersichtlich."
   ]
  },
  {
   "cell_type": "code",
   "execution_count": null,
   "metadata": {},
   "outputs": [],
   "source": [
    "start = datetime(2018, 7, 1)\n",
    "end = datetime(2018, 7, 22)\n",
    "group = 'hour'\n",
    "filt = Filter(start, end, group)\n",
    "bz = 'NCG'\n",
    "operatorKeys = entsog.operatorsByBZ(bz)\n",
    "p = entsog.operationaldata(operatorKeys, filt)\n",
    "a = entsog.operationaldata(operatorKeys, filt, table='Allocation')\n",
    "\n",
    "\n",
    "a = a.pivot(columns=['directionkey'], values='value')\n",
    "p = p.pivot(columns=['directionkey'], values='value')\n",
    "if 'entry' in a.columns and 'exit' in a.columns:\n",
    "    a['usage'] = a['entry']-a['exit']\n",
    "\n",
    "if 'entry' in p.columns and 'exit' in p.columns:\n",
    "    p['usage'] = p['entry']-p['exit']\n",
    "\n",
    "a.columns = list(map(lambda x: 'allocation '+str(x), a.columns))\n",
    "p.columns = list(map(lambda x: 'physical '+str(x), p.columns))\n",
    "ap = pd.concat([a, p], axis=1)\n",
    "px.line(ap, title='Physical Flow for '+bz)"
   ]
  },
  {
   "cell_type": "markdown",
   "metadata": {},
   "source": [
    "## Abweichungen nach Messpunktart\n",
    "\n",
    "Visualisiert man sich die Allokationen nach Messpunkt art, sieht man, dass die Unstimmigkeiten zwischen Allokationen und physischem Fluss hauptsächlich bei den Verbindungspunkten zu anderen Zonen (ITP) entstehen.\n",
    "\n",
    "Jedoch gibt es auch bei den Untergrundspeichern unstimmigkeiten"
   ]
  },
  {
   "cell_type": "code",
   "execution_count": null,
   "metadata": {},
   "outputs": [],
   "source": [
    "p = entsog.bilanz(operatorKeys, filt)\n",
    "a = entsog.bilanz(operatorKeys, filt, table='Allocation')\n",
    "\n",
    "a.columns = list(map(lambda x: x+' alloc', a.columns))\n",
    "p.columns = list(map(lambda x: x+' phy', p.columns))\n",
    "g = pd.concat([a, p], axis=1)\n",
    "px.line(g, title='Physical Flow by production kind '+bz)"
   ]
  },
  {
   "cell_type": "markdown",
   "metadata": {},
   "source": [
    "## Abweichungen nach Land des Transfers\n",
    "\n",
    "In einer Visualisierung des Physischen Flusses und den Allokationen nach Transferland, sieht man dass \n",
    "Vergleicht man den Physischen Fluss mit den Allokationen, sieht man, dass starke Abweichungen bei den Transferdaten von Norwegen entstehen.\n",
    "\n",
    "Außerdem gibt es zu FNC bspw keine Allokationsdaten, sodass auch hierbei Unstimmigkeiten auftreten"
   ]
  },
  {
   "cell_type": "code",
   "execution_count": null,
   "metadata": {},
   "outputs": [],
   "source": [
    "p = entsog.crossborder(operatorKeys, filt)\n",
    "a = entsog.crossborder(operatorKeys, filt, table='Allocation')\n",
    "a.columns = list(map(lambda x: x+' alloc', a.columns))\n",
    "p.columns = list(map(lambda x: x+' phy', p.columns))\n",
    "\n",
    "g = pd.concat([p, a], axis=1)\n",
    "px.line(g, title='Transmission flows '+bz)"
   ]
  },
  {
   "cell_type": "markdown",
   "metadata": {},
   "source": [
    "Durch doppelklicken auf einen Eintrag in der Legende und anschließendem anklicken der zugehörigen Allokationen, kann man zu einzelnen Linien phy und alloc vergleichen\n",
    "\n",
    "## Import + Prod – Export == Verbrauch + Entry UGS – Exit UGS\n",
    "\n",
    "Nun soll die Rechnung Import + Prod – Export == Verbrauch + Entry UGS – Exit UGS überprüft werden.\n",
    "\n",
    "Das ist logisch betrachtet stimmig, da alles was das Land nicht verlässt (linke Seite) entweder gespeichert oder verbraucht wird"
   ]
  },
  {
   "cell_type": "code",
   "execution_count": null,
   "metadata": {},
   "outputs": [],
   "source": [
    "# helper\n",
    "def fixMissing(x):\n",
    "    if not 'PRD' in list(x.columns):\n",
    "        x['PRD']=0\n",
    "    if not 'UGS' in list(x.columns):\n",
    "        x['UGS']=0\n",
    "    if not 'ITP' in list(x.columns):\n",
    "        x['ITP']=0   \n",
    "        \n",
    "bz = 'NCG' #'TRF'\n",
    "operatorKeys = entsog.operatorsByBZ(bz)\n",
    "start = datetime(2018, 4, 1)\n",
    "end = datetime(2018, 7, 22)\n",
    "group = 'day'\n",
    "filt = Filter(start, end, group)\n",
    "\n",
    "\n",
    "bil_p = entsog.bilanz(operatorKeys, filt)\n",
    "bil_a = entsog.bilanz(operatorKeys, filt, table='Allocation')\n",
    "p = entsog.operationaldata(operatorKeys, filt)\n",
    "a = entsog.operationaldata(operatorKeys, filt, table='Allocation')\n",
    "\n",
    "a = a.pivot(columns=['directionkey'], values='value')\n",
    "p = p.pivot(columns=['directionkey'], values='value')\n",
    "if 'entry' in a.columns and 'exit' in a.columns:\n",
    "    a['usage'] = a['entry']-a['exit']\n",
    "\n",
    "if 'entry' in p.columns and 'exit' in p.columns:\n",
    "    p['usage'] = p['entry']-p['exit']\n",
    "#ap = pd.concat([a, p], axis=1)        \n",
    "fixMissing(bil_a)\n",
    "fixMissing(bil_p)"
   ]
  },
  {
   "cell_type": "code",
   "execution_count": null,
   "metadata": {},
   "outputs": [],
   "source": [
    "ap = pd.DataFrame()\n",
    "if not a.empty:\n",
    "    ap['left alloc'] = bil_a['PRD']+bil_a['ITP']\n",
    "    ap['right alloc'] = a['usage']-bil_a['UGS']\n",
    "    ap['diff alloc'] = ap['left alloc']-ap['right alloc']\n",
    "\n",
    "if not p.empty:\n",
    "    ap['left phys'] = bil_p['PRD']+bil_p['ITP']\n",
    "    ap['right phys'] = p['usage']-bil_p['UGS']\n",
    "    ap['diff phys'] = ap['left phys']-ap['right phys']\n",
    "#ap = pd.concat([ap['left alloc'], right_alloc], axis=1)\n",
    "#ap = pd.concat([ap['left alloc'], right_alloc,left_phys, right_phys], axis=1)\n",
    "\n",
    "ap['diff diff'] = ap['diff phys']-ap['diff alloc']\n",
    "\n",
    "px.line(ap, title='Physical Flow for '+bz)"
   ]
  },
  {
   "cell_type": "markdown",
   "metadata": {},
   "source": [
    "Hier sieht man, dass die Rechnung für NCG im ausgewählten Intervall aufgeht (bis auf kleinere Abweichungen).\n",
    "\n",
    "## Erzeugnisse nach Land\n",
    "\n",
    "Eine weitere Fragestellung war der Vergleich von Allokationen und Fluss  nach Erzeugnisse pro Zone, Das entspricht der obigen linken Seite."
   ]
  },
  {
   "cell_type": "code",
   "execution_count": null,
   "metadata": {},
   "outputs": [],
   "source": [
    "start = datetime(2018, 4, 1)\n",
    "end = datetime(2018, 4, 22)\n",
    "group = 'hour'\n",
    "filt = Filter(start, end, group)"
   ]
  },
  {
   "cell_type": "code",
   "execution_count": null,
   "metadata": {},
   "outputs": [],
   "source": [
    "countries = ['NCG','GASPOOL','TRF','Austria']\n",
    "ap = pd.DataFrame()\n",
    "for c in countries:\n",
    "    operatorKeys = entsog.operatorsByBZ(c)\n",
    "    bil_p = entsog.bilanz(operatorKeys, filt)\n",
    "    bil_a = entsog.bilanz(operatorKeys, filt, table='Allocation')\n",
    "\n",
    "    fixMissing(bil_a)\n",
    "    fixMissing(bil_p)\n",
    "    \n",
    "    ap[c+' alloc'] = bil_a['PRD']+bil_a['ITP']\n",
    "    ap[c+' phys'] = bil_p['PRD']+bil_p['ITP']        \n",
    "    "
   ]
  },
  {
   "cell_type": "code",
   "execution_count": null,
   "metadata": {},
   "outputs": [],
   "source": [
    "px.line(ap, title='Physical Flow for '+bz)"
   ]
  },
  {
   "cell_type": "markdown",
   "metadata": {},
   "source": [
    "# Ausblick"
   ]
  },
  {
   "cell_type": "markdown",
   "metadata": {},
   "source": [
    "## Flussdiagramm\n",
    "\n",
    "nach Datum über die Zeit oder als Übergangsmatrix/Sankey-Diagramm\n",
    "\n",
    "Gruppierung nach Land/Marktgebiet\n",
    "\n",
    "\n",
    "Visualisieren wo Gas benötigt wird und wo es nur geschickt wird\n",
    "\n",
    "Visualisieren der Gas-Pipeline (Kartenfehler finden)"
   ]
  },
  {
   "cell_type": "markdown",
   "metadata": {},
   "source": [
    "## Anteil Gasversorgung eines Operators am Marktgebiet\n",
    "\n",
    "Erzeugen eines DashBoards der vorhandenen Daten, ähnlich wie Energy-charts.info\n",
    "\n",
    "In einem Marktgebiet kaufen und verkaufen verschiedene Operatoren Gas.\n",
    "Pro Marktgebiet kann man jeweils für Käufe und Verkäufe die Menge nach Operator aufschlüsseln"
   ]
  },
  {
   "cell_type": "markdown",
   "metadata": {},
   "source": [
    "Alles weitere findet sich dann im großen Dashboard:\n",
    "\n",
    "https://entso.nowum.fh-aachen.de/entsog"
   ]
  }
 ],
 "metadata": {
  "kernelspec": {
   "display_name": "Python 3",
   "language": "python",
   "name": "python3"
  },
  "language_info": {
   "codemirror_mode": {
    "name": "ipython",
    "version": 3
   },
   "file_extension": ".py",
   "mimetype": "text/x-python",
   "name": "python",
   "nbconvert_exporter": "python",
   "pygments_lexer": "ipython3",
   "version": "3.8.5"
  },
  "widgets": {
   "application/vnd.jupyter.widget-state+json": {
    "state": {
     "04a70c37ffa54a10baf8b80f38356b60": {
      "model_module": "@jupyter-widgets/controls",
      "model_module_version": "1.5.0",
      "model_name": "DescriptionStyleModel",
      "state": {
       "description_width": ""
      }
     },
     "42eea65dceef4df5a2b28dc179d52d86": {
      "model_module": "@jupyter-widgets/base",
      "model_module_version": "1.2.0",
      "model_name": "LayoutModel",
      "state": {}
     },
     "46884cb994914fde9c82d48390fd8294": {
      "model_module": "@jupyter-widgets/controls",
      "model_module_version": "1.5.0",
      "model_name": "HBoxModel",
      "state": {
       "children": [
        "IPY_MODEL_9ded5d4cf3804c7fb14efd3ee74192b9",
        "IPY_MODEL_b407a5abc07f40afb34fad2e4f9ff196"
       ],
       "layout": "IPY_MODEL_5ef64862bb034ab68ad05aa8e629376a"
      }
     },
     "5ef64862bb034ab68ad05aa8e629376a": {
      "model_module": "@jupyter-widgets/base",
      "model_module_version": "1.2.0",
      "model_name": "LayoutModel",
      "state": {}
     },
     "69409baf69d54e658821f8c4fe2e0638": {
      "model_module": "@jupyter-widgets/controls",
      "model_module_version": "1.5.0",
      "model_name": "SliderStyleModel",
      "state": {
       "description_width": ""
      }
     },
     "6b119e1cff1841ed93f5e4d4ae0ad031": {
      "model_module": "@jupyter-widgets/base",
      "model_module_version": "1.2.0",
      "model_name": "LayoutModel",
      "state": {}
     },
     "847e42de3f604e618e9d3a2cd329f5b1": {
      "model_module": "@jupyter-widgets/base",
      "model_module_version": "1.2.0",
      "model_name": "LayoutModel",
      "state": {}
     },
     "84d96934eef14ef5a04afdf2a54c6743": {
      "model_module": "@jupyter-widgets/controls",
      "model_module_version": "1.5.0",
      "model_name": "DescriptionStyleModel",
      "state": {
       "description_width": ""
      }
     },
     "9dd7340797c04f85a0f4db1bd9e33a16": {
      "buffers": [
       {
        "data": "jpc261DJ0EGZmVl7tOXQQf3/f0FL4s9BmZl5UVj700HMzOwF8DrSQczMbCPUCdFBmpm51tS400FmZiZbOVDVQWdm5hsJgtVBzcyMkYUH1kHNzIyKdNbWQZmZGWvxatdBZWamGL371EGZmRlitEvVQWdm5o0ZitVBAgAgJs6I1EHMzOwhbEfVQZiZefFtutVBZ2bGsJli1EEzMxPVmcvTQczM7FZuStRBAACAv1Fo1UHMzAy3ImvVQZqZmUfI8dNBZmbmGQVr00FmZoZS9VPSQTMz0wMVY9RBmpkZ/naW1UGamblKUezUQc7M7EJsCtZB/v//Zn/+10EzMzN+eWvYQczM7KmjvNlBMjMTLMjW2kGZmbmGDbrZQczMLC+IUtlBzcyMO+Hv1kFmZsZNE5vUQTMzM173EdRBMzOTqdaB00GZmZn6HIXTQTMz0462n9NBAQAgyS7T00FmZuY9T+jTQZmZOVKg59FBmpnZ91KE00HMzAxbKsLSQTQzc86tz9JBmZn5SF6P00GamXm7JLPTQZmZGZmvtdFBZ2amUEOV0EGamdnNSKfRQZqZ+emDHtBBzMwsJxcG0UHNzCwpyurQQczMbB0pHdBBAABglbGq0EEAAEBQyYzRQczMDGtaNNJBzcwsLWty0kGamZk+Z23SQZuZuSbiqNFBZmYmiQ+00UGZmRnUYKDSQc3MTN3aGs5Bmpl5ags30kFmZiY8my/SQTIz8/BZmNFBZmYGDtVh00FnZqbMFK3TQZiZWVgGw9NBzsws9Kmm00H//x+DHNfSQTMzc7lfV9FBmpn5bYSU0UHMzMzsURTTQWdmRlhJLdNBAAAA/lLX0kGoxosvXqjTQWZm5s1Nl9NBm5m5Zp5q0kEzMxMRDSPSQWZmZreGAdFBAACgEGJK0UGZmdn1ZHzTQTMzU8igAdNBmZkZt3280UFmZqYstkbRQV2PoitNisxB0CKbZBU60EHup3Z90ErQQQ==",
        "encoding": "base64",
        "path": [
         "_data",
         0,
         "y",
         "value"
        ]
       },
       {
        "data": "Zmb2YJn/7EE0MzOJ2WDtQWhmJvpzZOlBNDNz20Fp6kGamTmUBNjqQTQzI0aKwutBZma2fnMM6kGbmRnViyjmQWdmtlV6uOhBAQBwUiOe6kGamSnLiDzpQZiZ6cGpROpBnJm5qG+Y50E0M7MseCznQWZmVqHIuuhBm5nZcFyg6EH+/3+jlRzoQZqZGXzRfedBzMws3tdR5kE0M3OQSozoQf7//4p+SOdBy8zsEC/k50FpZhbZHnzpQWZmFq/vL+hBl5n5qQBY6UFnZtb0wc/pQWlmphxBQOxB/v/PxeSt7EFnZlbOGqvqQZqZaR/Hu+tB//+fWCNF7EEzM5MQrZXpQc/MjHrEtuZBzMzczEwV50GbmelDIl3lQZqZmTeQ+ORBaGambj/C5kFoZqYes6roQczMvEwFSOpBNDMTaM4L6EHQzEwBQSLoQWZmxl0ENOlBMjOThcyU6kEBAOCe2lTrQZyZ+eHjJepBmJl5MD+16UGYmcmeEVnqQWdmVgO1CulBmZkZiK5m6EGZmal3N1DmQZqZ2cj0X+hBMjNjBDU66UFnZrZSycHpQf7/HxZgIulBZWZmBn3j50HOzDy4GN7nQc3MvJ9bJuZBNDMzq1uF6EGamRmA64noQZqZWVMjt+ZBMTMj/mun5EHxpx6y2ZTmQZlurqc0NedBBSvf+XNi5kErh/rj6aflQWhm7rW5LONBFYMQeBcv40FZOQzTIFXkQUE1RtcXTuZBuR4FWZEF6EHkpSe3HU/nQTEIgIj4ledBvHQv64rd50GPwgE8EZ7mQYXAiqp6puZBCdf7lOaW5EGEwAIlrIHlQa4cRiqZBeRB4qXvdy/w5UEh2yVgr/TmQaRwpUHqLedBr0cZ47OT50EW2a5ut2ToQdH3e1LgM+ZBkhj0USUr5UGtRxkUfLzmQZ4afyQ8TuZBhxYdI8ZN50HtfDMD6JnmQRSDcI0o9+VBq0c1S2pX5kFUuDo8Uo/mQQ==",
        "encoding": "base64",
        "path": [
         "_data",
         1,
         "y",
         "value"
        ]
       },
       {
        "data": "nxpb6/Ca5MFoZoZL/+3kwWlmxinha+HBaGa2spVr4ME0M0ORjLrhwc7MbDSgPePBmZlZEwkw4MHQzAxP3gDXwWdmho/r7tvBNTNTE8E038FnZsYLnaLbwZeZuRhiHt3B08zMOCI12sHPzEz3Ow3ZwWVmxrR369vBNDOTu+q33MEwMxMlv/HawZyZuQY1QdnBMTOTCxZB2ME1M9NL+0zdwTAzE7+ORtrBlplZYgxg2sEGACD7Go3dwTIzkxYXbtzByMwMOvxE38E0M5NLx6XgwdDMvJq2DuLBMTPDRqni4cGamfko8jTgwTMz8/2QtuDBAAAgpeNF4MEzM/Oi4L/awdLMLEvlsNPBZmambdFT08GdmRkBNwDRwWhmBkCYntDBAwDAoZ2U1sFqZobvUrrcwTIzo50JP+DBNTOTJsaV3MEHAAAIZb/cwZmZuSxSyN7BMjMDITWr4MHOzOz/smDhwdDM3LgTMuHBlpkZaSvm38EyM0Nx/PfgwZqZOTi8Rd/BmZk5x/493cGYmdkzSu3YwZuZmfg5Ct/B/v8PXJPv4MGamcnrJO7gwTEzIyEeE+HB/v+f5eLA3sHPzExHZ9Hewc7MDCKOL9zBNDOD4AIw4ME0M/OvDYffwWhmpjvsOdvBlZkZz2zc1sFItqMlTLzawZdDoyiHwdzBpO+XatgQ28G9dNvzcq/YwWpmNv0FTNfBkGynhSMn1MFMDPJppnrWwVA3mb3VA9vBDNcDpE2p3MFh5aihJvHawcp2prjqaNvBqhwy4msU3MEfheP0BWXawddNopuV9dvBeBT+u0iZ18E8tDhdBu/XwfXSRfzo3dTBxEvf8QsJ2cGa77+QAEHaweJ6ZLWGxNrBw/V4X8m83MH5fkrMYabewTyJke05ZtvBJDFIk+gL2cHB9Vgyk/zZwQkCq4DXmtnBdZMgjw7f3MF0k8DZGe3bwXq+D4Uqqd3BhmzPMb903MG6yP7609PcwQ==",
        "encoding": "base64",
        "path": [
         "_data",
         2,
         "y",
         "value"
        ]
       }
      ],
      "model_module": "plotlywidget",
      "model_module_version": "^4.14.3",
      "model_name": "FigureModel",
      "state": {
       "_config": {
        "plotlyServerURL": "https://plot.ly"
       },
       "_data": [
        {
         "name": "importiertes Gas",
         "type": "scatter",
         "uid": "4bda126b-2ae8-4b9e-85f8-b2f5e0e7a1f0",
         "x": [
          "2018-04-01",
          "2018-04-02",
          "2018-04-03",
          "2018-04-04",
          "2018-04-05",
          "2018-04-06",
          "2018-04-07",
          "2018-04-08",
          "2018-04-09",
          "2018-04-10",
          "2018-04-11",
          "2018-04-12",
          "2018-04-13",
          "2018-04-14",
          "2018-04-15",
          "2018-04-16",
          "2018-04-17",
          "2018-04-18",
          "2018-04-19",
          "2018-04-20",
          "2018-04-21",
          "2018-04-22",
          "2018-04-23",
          "2018-04-24",
          "2018-04-25",
          "2018-04-26",
          "2018-04-27",
          "2018-04-28",
          "2018-04-29",
          "2018-04-30",
          "2018-05-01",
          "2018-05-02",
          "2018-05-03",
          "2018-05-04",
          "2018-05-05",
          "2018-05-06",
          "2018-05-07",
          "2018-05-08",
          "2018-05-09",
          "2018-05-10",
          "2018-05-11",
          "2018-05-12",
          "2018-05-13",
          "2018-05-14",
          "2018-05-15",
          "2018-05-16",
          "2018-05-17",
          "2018-05-18",
          "2018-05-19",
          "2018-05-20",
          "2018-05-21",
          "2018-05-22",
          "2018-05-23",
          "2018-05-24",
          "2018-05-25",
          "2018-05-26",
          "2018-05-27",
          "2018-05-28",
          "2018-05-29",
          "2018-05-30",
          "2018-05-31",
          "2018-06-01",
          "2018-06-02",
          "2018-06-03",
          "2018-06-04",
          "2018-06-05",
          "2018-06-06",
          "2018-06-07",
          "2018-06-08",
          "2018-06-09",
          "2018-06-10",
          "2018-06-11",
          "2018-06-12",
          "2018-06-13",
          "2018-06-14",
          "2018-06-15",
          "2018-06-16",
          "2018-06-17",
          "2018-06-18",
          "2018-06-19",
          "2018-06-20",
          "2018-06-21",
          "2018-06-22",
          "2018-06-23",
          "2018-06-24",
          "2018-06-25",
          "2018-06-26",
          "2018-06-27",
          "2018-06-28",
          "2018-06-29",
          "2018-06-30",
          "2018-07-01"
         ],
         "y": {
          "dtype": "float64",
          "shape": [
           92
          ]
         }
        },
        {
         "name": "exportiertes Gas",
         "type": "scatter",
         "uid": "dc54698f-e896-4dee-a8c5-3dfc8445d93b",
         "x": [
          "2018-04-01",
          "2018-04-02",
          "2018-04-03",
          "2018-04-04",
          "2018-04-05",
          "2018-04-06",
          "2018-04-07",
          "2018-04-08",
          "2018-04-09",
          "2018-04-10",
          "2018-04-11",
          "2018-04-12",
          "2018-04-13",
          "2018-04-14",
          "2018-04-15",
          "2018-04-16",
          "2018-04-17",
          "2018-04-18",
          "2018-04-19",
          "2018-04-20",
          "2018-04-21",
          "2018-04-22",
          "2018-04-23",
          "2018-04-24",
          "2018-04-25",
          "2018-04-26",
          "2018-04-27",
          "2018-04-28",
          "2018-04-29",
          "2018-04-30",
          "2018-05-01",
          "2018-05-02",
          "2018-05-03",
          "2018-05-04",
          "2018-05-05",
          "2018-05-06",
          "2018-05-07",
          "2018-05-08",
          "2018-05-09",
          "2018-05-10",
          "2018-05-11",
          "2018-05-12",
          "2018-05-13",
          "2018-05-14",
          "2018-05-15",
          "2018-05-16",
          "2018-05-17",
          "2018-05-18",
          "2018-05-19",
          "2018-05-20",
          "2018-05-21",
          "2018-05-22",
          "2018-05-23",
          "2018-05-24",
          "2018-05-25",
          "2018-05-26",
          "2018-05-27",
          "2018-05-28",
          "2018-05-29",
          "2018-05-30",
          "2018-05-31",
          "2018-06-01",
          "2018-06-02",
          "2018-06-03",
          "2018-06-04",
          "2018-06-05",
          "2018-06-06",
          "2018-06-07",
          "2018-06-08",
          "2018-06-09",
          "2018-06-10",
          "2018-06-11",
          "2018-06-12",
          "2018-06-13",
          "2018-06-14",
          "2018-06-15",
          "2018-06-16",
          "2018-06-17",
          "2018-06-18",
          "2018-06-19",
          "2018-06-20",
          "2018-06-21",
          "2018-06-22",
          "2018-06-23",
          "2018-06-24",
          "2018-06-25",
          "2018-06-26",
          "2018-06-27",
          "2018-06-28",
          "2018-06-29",
          "2018-06-30",
          "2018-07-01"
         ],
         "y": {
          "dtype": "float64",
          "shape": [
           92
          ]
         }
        },
        {
         "name": "dem Gebiet beigefügtes Gas",
         "type": "scatter",
         "uid": "1a98ec9f-cd06-49e3-87cd-aa6061e7caee",
         "x": [
          "2018-04-01",
          "2018-04-02",
          "2018-04-03",
          "2018-04-04",
          "2018-04-05",
          "2018-04-06",
          "2018-04-07",
          "2018-04-08",
          "2018-04-09",
          "2018-04-10",
          "2018-04-11",
          "2018-04-12",
          "2018-04-13",
          "2018-04-14",
          "2018-04-15",
          "2018-04-16",
          "2018-04-17",
          "2018-04-18",
          "2018-04-19",
          "2018-04-20",
          "2018-04-21",
          "2018-04-22",
          "2018-04-23",
          "2018-04-24",
          "2018-04-25",
          "2018-04-26",
          "2018-04-27",
          "2018-04-28",
          "2018-04-29",
          "2018-04-30",
          "2018-05-01",
          "2018-05-02",
          "2018-05-03",
          "2018-05-04",
          "2018-05-05",
          "2018-05-06",
          "2018-05-07",
          "2018-05-08",
          "2018-05-09",
          "2018-05-10",
          "2018-05-11",
          "2018-05-12",
          "2018-05-13",
          "2018-05-14",
          "2018-05-15",
          "2018-05-16",
          "2018-05-17",
          "2018-05-18",
          "2018-05-19",
          "2018-05-20",
          "2018-05-21",
          "2018-05-22",
          "2018-05-23",
          "2018-05-24",
          "2018-05-25",
          "2018-05-26",
          "2018-05-27",
          "2018-05-28",
          "2018-05-29",
          "2018-05-30",
          "2018-05-31",
          "2018-06-01",
          "2018-06-02",
          "2018-06-03",
          "2018-06-04",
          "2018-06-05",
          "2018-06-06",
          "2018-06-07",
          "2018-06-08",
          "2018-06-09",
          "2018-06-10",
          "2018-06-11",
          "2018-06-12",
          "2018-06-13",
          "2018-06-14",
          "2018-06-15",
          "2018-06-16",
          "2018-06-17",
          "2018-06-18",
          "2018-06-19",
          "2018-06-20",
          "2018-06-21",
          "2018-06-22",
          "2018-06-23",
          "2018-06-24",
          "2018-06-25",
          "2018-06-26",
          "2018-06-27",
          "2018-06-28",
          "2018-06-29",
          "2018-06-30",
          "2018-07-01"
         ],
         "y": {
          "dtype": "float64",
          "shape": [
           92
          ]
         }
        }
       ],
       "_js2py_pointsCallback": {},
       "_js2py_restyle": {},
       "_js2py_update": {},
       "_last_layout_edit_id": 1,
       "_layout": {
        "autosize": true,
        "template": {
         "data": {
          "bar": [
           {
            "error_x": {
             "color": "#2a3f5f"
            },
            "error_y": {
             "color": "#2a3f5f"
            },
            "marker": {
             "line": {
              "color": "#E5ECF6",
              "width": 0.5
             }
            },
            "type": "bar"
           }
          ],
          "barpolar": [
           {
            "marker": {
             "line": {
              "color": "#E5ECF6",
              "width": 0.5
             }
            },
            "type": "barpolar"
           }
          ],
          "carpet": [
           {
            "aaxis": {
             "endlinecolor": "#2a3f5f",
             "gridcolor": "white",
             "linecolor": "white",
             "minorgridcolor": "white",
             "startlinecolor": "#2a3f5f"
            },
            "baxis": {
             "endlinecolor": "#2a3f5f",
             "gridcolor": "white",
             "linecolor": "white",
             "minorgridcolor": "white",
             "startlinecolor": "#2a3f5f"
            },
            "type": "carpet"
           }
          ],
          "choropleth": [
           {
            "colorbar": {
             "outlinewidth": 0,
             "ticks": ""
            },
            "type": "choropleth"
           }
          ],
          "contour": [
           {
            "colorbar": {
             "outlinewidth": 0,
             "ticks": ""
            },
            "colorscale": [
             [
              0,
              "#0d0887"
             ],
             [
              0.1111111111111111,
              "#46039f"
             ],
             [
              0.2222222222222222,
              "#7201a8"
             ],
             [
              0.3333333333333333,
              "#9c179e"
             ],
             [
              0.4444444444444444,
              "#bd3786"
             ],
             [
              0.5555555555555556,
              "#d8576b"
             ],
             [
              0.6666666666666666,
              "#ed7953"
             ],
             [
              0.7777777777777778,
              "#fb9f3a"
             ],
             [
              0.8888888888888888,
              "#fdca26"
             ],
             [
              1,
              "#f0f921"
             ]
            ],
            "type": "contour"
           }
          ],
          "contourcarpet": [
           {
            "colorbar": {
             "outlinewidth": 0,
             "ticks": ""
            },
            "type": "contourcarpet"
           }
          ],
          "heatmap": [
           {
            "colorbar": {
             "outlinewidth": 0,
             "ticks": ""
            },
            "colorscale": [
             [
              0,
              "#0d0887"
             ],
             [
              0.1111111111111111,
              "#46039f"
             ],
             [
              0.2222222222222222,
              "#7201a8"
             ],
             [
              0.3333333333333333,
              "#9c179e"
             ],
             [
              0.4444444444444444,
              "#bd3786"
             ],
             [
              0.5555555555555556,
              "#d8576b"
             ],
             [
              0.6666666666666666,
              "#ed7953"
             ],
             [
              0.7777777777777778,
              "#fb9f3a"
             ],
             [
              0.8888888888888888,
              "#fdca26"
             ],
             [
              1,
              "#f0f921"
             ]
            ],
            "type": "heatmap"
           }
          ],
          "heatmapgl": [
           {
            "colorbar": {
             "outlinewidth": 0,
             "ticks": ""
            },
            "colorscale": [
             [
              0,
              "#0d0887"
             ],
             [
              0.1111111111111111,
              "#46039f"
             ],
             [
              0.2222222222222222,
              "#7201a8"
             ],
             [
              0.3333333333333333,
              "#9c179e"
             ],
             [
              0.4444444444444444,
              "#bd3786"
             ],
             [
              0.5555555555555556,
              "#d8576b"
             ],
             [
              0.6666666666666666,
              "#ed7953"
             ],
             [
              0.7777777777777778,
              "#fb9f3a"
             ],
             [
              0.8888888888888888,
              "#fdca26"
             ],
             [
              1,
              "#f0f921"
             ]
            ],
            "type": "heatmapgl"
           }
          ],
          "histogram": [
           {
            "marker": {
             "colorbar": {
              "outlinewidth": 0,
              "ticks": ""
             }
            },
            "type": "histogram"
           }
          ],
          "histogram2d": [
           {
            "colorbar": {
             "outlinewidth": 0,
             "ticks": ""
            },
            "colorscale": [
             [
              0,
              "#0d0887"
             ],
             [
              0.1111111111111111,
              "#46039f"
             ],
             [
              0.2222222222222222,
              "#7201a8"
             ],
             [
              0.3333333333333333,
              "#9c179e"
             ],
             [
              0.4444444444444444,
              "#bd3786"
             ],
             [
              0.5555555555555556,
              "#d8576b"
             ],
             [
              0.6666666666666666,
              "#ed7953"
             ],
             [
              0.7777777777777778,
              "#fb9f3a"
             ],
             [
              0.8888888888888888,
              "#fdca26"
             ],
             [
              1,
              "#f0f921"
             ]
            ],
            "type": "histogram2d"
           }
          ],
          "histogram2dcontour": [
           {
            "colorbar": {
             "outlinewidth": 0,
             "ticks": ""
            },
            "colorscale": [
             [
              0,
              "#0d0887"
             ],
             [
              0.1111111111111111,
              "#46039f"
             ],
             [
              0.2222222222222222,
              "#7201a8"
             ],
             [
              0.3333333333333333,
              "#9c179e"
             ],
             [
              0.4444444444444444,
              "#bd3786"
             ],
             [
              0.5555555555555556,
              "#d8576b"
             ],
             [
              0.6666666666666666,
              "#ed7953"
             ],
             [
              0.7777777777777778,
              "#fb9f3a"
             ],
             [
              0.8888888888888888,
              "#fdca26"
             ],
             [
              1,
              "#f0f921"
             ]
            ],
            "type": "histogram2dcontour"
           }
          ],
          "mesh3d": [
           {
            "colorbar": {
             "outlinewidth": 0,
             "ticks": ""
            },
            "type": "mesh3d"
           }
          ],
          "parcoords": [
           {
            "line": {
             "colorbar": {
              "outlinewidth": 0,
              "ticks": ""
             }
            },
            "type": "parcoords"
           }
          ],
          "pie": [
           {
            "automargin": true,
            "type": "pie"
           }
          ],
          "scatter": [
           {
            "marker": {
             "colorbar": {
              "outlinewidth": 0,
              "ticks": ""
             }
            },
            "type": "scatter"
           }
          ],
          "scatter3d": [
           {
            "line": {
             "colorbar": {
              "outlinewidth": 0,
              "ticks": ""
             }
            },
            "marker": {
             "colorbar": {
              "outlinewidth": 0,
              "ticks": ""
             }
            },
            "type": "scatter3d"
           }
          ],
          "scattercarpet": [
           {
            "marker": {
             "colorbar": {
              "outlinewidth": 0,
              "ticks": ""
             }
            },
            "type": "scattercarpet"
           }
          ],
          "scattergeo": [
           {
            "marker": {
             "colorbar": {
              "outlinewidth": 0,
              "ticks": ""
             }
            },
            "type": "scattergeo"
           }
          ],
          "scattergl": [
           {
            "marker": {
             "colorbar": {
              "outlinewidth": 0,
              "ticks": ""
             }
            },
            "type": "scattergl"
           }
          ],
          "scattermapbox": [
           {
            "marker": {
             "colorbar": {
              "outlinewidth": 0,
              "ticks": ""
             }
            },
            "type": "scattermapbox"
           }
          ],
          "scatterpolar": [
           {
            "marker": {
             "colorbar": {
              "outlinewidth": 0,
              "ticks": ""
             }
            },
            "type": "scatterpolar"
           }
          ],
          "scatterpolargl": [
           {
            "marker": {
             "colorbar": {
              "outlinewidth": 0,
              "ticks": ""
             }
            },
            "type": "scatterpolargl"
           }
          ],
          "scatterternary": [
           {
            "marker": {
             "colorbar": {
              "outlinewidth": 0,
              "ticks": ""
             }
            },
            "type": "scatterternary"
           }
          ],
          "surface": [
           {
            "colorbar": {
             "outlinewidth": 0,
             "ticks": ""
            },
            "colorscale": [
             [
              0,
              "#0d0887"
             ],
             [
              0.1111111111111111,
              "#46039f"
             ],
             [
              0.2222222222222222,
              "#7201a8"
             ],
             [
              0.3333333333333333,
              "#9c179e"
             ],
             [
              0.4444444444444444,
              "#bd3786"
             ],
             [
              0.5555555555555556,
              "#d8576b"
             ],
             [
              0.6666666666666666,
              "#ed7953"
             ],
             [
              0.7777777777777778,
              "#fb9f3a"
             ],
             [
              0.8888888888888888,
              "#fdca26"
             ],
             [
              1,
              "#f0f921"
             ]
            ],
            "type": "surface"
           }
          ],
          "table": [
           {
            "cells": {
             "fill": {
              "color": "#EBF0F8"
             },
             "line": {
              "color": "white"
             }
            },
            "header": {
             "fill": {
              "color": "#C8D4E3"
             },
             "line": {
              "color": "white"
             }
            },
            "type": "table"
           }
          ]
         },
         "layout": {
          "annotationdefaults": {
           "arrowcolor": "#2a3f5f",
           "arrowhead": 0,
           "arrowwidth": 1
          },
          "autotypenumbers": "strict",
          "coloraxis": {
           "colorbar": {
            "outlinewidth": 0,
            "ticks": ""
           }
          },
          "colorscale": {
           "diverging": [
            [
             0,
             "#8e0152"
            ],
            [
             0.1,
             "#c51b7d"
            ],
            [
             0.2,
             "#de77ae"
            ],
            [
             0.3,
             "#f1b6da"
            ],
            [
             0.4,
             "#fde0ef"
            ],
            [
             0.5,
             "#f7f7f7"
            ],
            [
             0.6,
             "#e6f5d0"
            ],
            [
             0.7,
             "#b8e186"
            ],
            [
             0.8,
             "#7fbc41"
            ],
            [
             0.9,
             "#4d9221"
            ],
            [
             1,
             "#276419"
            ]
           ],
           "sequential": [
            [
             0,
             "#0d0887"
            ],
            [
             0.1111111111111111,
             "#46039f"
            ],
            [
             0.2222222222222222,
             "#7201a8"
            ],
            [
             0.3333333333333333,
             "#9c179e"
            ],
            [
             0.4444444444444444,
             "#bd3786"
            ],
            [
             0.5555555555555556,
             "#d8576b"
            ],
            [
             0.6666666666666666,
             "#ed7953"
            ],
            [
             0.7777777777777778,
             "#fb9f3a"
            ],
            [
             0.8888888888888888,
             "#fdca26"
            ],
            [
             1,
             "#f0f921"
            ]
           ],
           "sequentialminus": [
            [
             0,
             "#0d0887"
            ],
            [
             0.1111111111111111,
             "#46039f"
            ],
            [
             0.2222222222222222,
             "#7201a8"
            ],
            [
             0.3333333333333333,
             "#9c179e"
            ],
            [
             0.4444444444444444,
             "#bd3786"
            ],
            [
             0.5555555555555556,
             "#d8576b"
            ],
            [
             0.6666666666666666,
             "#ed7953"
            ],
            [
             0.7777777777777778,
             "#fb9f3a"
            ],
            [
             0.8888888888888888,
             "#fdca26"
            ],
            [
             1,
             "#f0f921"
            ]
           ]
          },
          "colorway": [
           "#636efa",
           "#EF553B",
           "#00cc96",
           "#ab63fa",
           "#FFA15A",
           "#19d3f3",
           "#FF6692",
           "#B6E880",
           "#FF97FF",
           "#FECB52"
          ],
          "font": {
           "color": "#2a3f5f"
          },
          "geo": {
           "bgcolor": "white",
           "lakecolor": "white",
           "landcolor": "#E5ECF6",
           "showlakes": true,
           "showland": true,
           "subunitcolor": "white"
          },
          "hoverlabel": {
           "align": "left"
          },
          "hovermode": "closest",
          "mapbox": {
           "style": "light"
          },
          "paper_bgcolor": "white",
          "plot_bgcolor": "#E5ECF6",
          "polar": {
           "angularaxis": {
            "gridcolor": "white",
            "linecolor": "white",
            "ticks": ""
           },
           "bgcolor": "#E5ECF6",
           "radialaxis": {
            "gridcolor": "white",
            "linecolor": "white",
            "ticks": ""
           }
          },
          "scene": {
           "xaxis": {
            "backgroundcolor": "#E5ECF6",
            "gridcolor": "white",
            "gridwidth": 2,
            "linecolor": "white",
            "showbackground": true,
            "ticks": "",
            "zerolinecolor": "white"
           },
           "yaxis": {
            "backgroundcolor": "#E5ECF6",
            "gridcolor": "white",
            "gridwidth": 2,
            "linecolor": "white",
            "showbackground": true,
            "ticks": "",
            "zerolinecolor": "white"
           },
           "zaxis": {
            "backgroundcolor": "#E5ECF6",
            "gridcolor": "white",
            "gridwidth": 2,
            "linecolor": "white",
            "showbackground": true,
            "ticks": "",
            "zerolinecolor": "white"
           }
          },
          "shapedefaults": {
           "line": {
            "color": "#2a3f5f"
           }
          },
          "ternary": {
           "aaxis": {
            "gridcolor": "white",
            "linecolor": "white",
            "ticks": ""
           },
           "baxis": {
            "gridcolor": "white",
            "linecolor": "white",
            "ticks": ""
           },
           "bgcolor": "#E5ECF6",
           "caxis": {
            "gridcolor": "white",
            "linecolor": "white",
            "ticks": ""
           }
          },
          "title": {
           "x": 0.05
          },
          "xaxis": {
           "automargin": true,
           "gridcolor": "white",
           "linecolor": "white",
           "ticks": "",
           "title": {
            "standoff": 15
           },
           "zerolinecolor": "white",
           "zerolinewidth": 2
          },
          "yaxis": {
           "automargin": true,
           "gridcolor": "white",
           "linecolor": "white",
           "ticks": "",
           "title": {
            "standoff": 15
           },
           "zerolinecolor": "white",
           "zerolinewidth": 2
          }
         }
        },
        "title": {
         "text": "ENTSOG Physical Flow"
        },
        "xaxis": {
         "title": {
          "text": "Datum"
         }
        },
        "yaxis": {
         "title": {
          "text": "gefördertes Gas in kWh"
         }
        }
       },
       "_py2js_addTraces": {},
       "_py2js_animate": {},
       "_py2js_deleteTraces": {},
       "_py2js_moveTraces": {},
       "_py2js_removeLayoutProps": {},
       "_py2js_removeTraceProps": {},
       "_py2js_restyle": {},
       "_py2js_update": {},
       "_view_count": 1
      }
     },
     "9ded5d4cf3804c7fb14efd3ee74192b9": {
      "model_module": "@jupyter-widgets/controls",
      "model_module_version": "1.5.0",
      "model_name": "CheckboxModel",
      "state": {
       "description": "Date: ",
       "disabled": false,
       "layout": "IPY_MODEL_42eea65dceef4df5a2b28dc179d52d86",
       "style": "IPY_MODEL_04a70c37ffa54a10baf8b80f38356b60",
       "value": true
      }
     },
     "a07e4350757f4260b0ae4d6a47a974dd": {
      "model_module": "@jupyter-widgets/base",
      "model_module_version": "1.2.0",
      "model_name": "LayoutModel",
      "state": {}
     },
     "a1d600dab2704607882c036ffed443ba": {
      "model_module": "@jupyter-widgets/controls",
      "model_module_version": "1.5.0",
      "model_name": "DropdownModel",
      "state": {
       "_options_labels": [
        "Distribution",
        "Final Consumers",
        "BeLux",
        "PEG North",
        "Netherlands",
        "LNG Terminals",
        "Storage",
        "Transmission",
        "L-Zone",
        "GASPOOL",
        "NCG",
        "IUK",
        "Switzerland",
        "Production",
        "Austria",
        "Latvia",
        "Spain",
        "Denmark",
        "Italy",
        "Croatia",
        "UK",
        "Ireland,NI",
        "Slovakia",
        "Hungary",
        "Slovenia",
        "Poland E-gas",
        "GASPOOL,Transmission",
        "Czech",
        "YAMAL (TGPS)",
        "GASPOOL,NCG",
        "Sweden",
        "RO_NTS",
        "Greece",
        "RO_DTS",
        "GTNTT-BG",
        "TRF",
        "TRS",
        "Portugal",
        "Joint Bal Zone DK/SE",
        "TGPS (YAMAL)",
        "Ireland",
        "NI",
        "Joint Bal Zone EE/LV",
        "Finland"
       ],
       "description": "Operators:   ",
       "index": 0,
       "layout": "IPY_MODEL_a07e4350757f4260b0ae4d6a47a974dd",
       "style": "IPY_MODEL_84d96934eef14ef5a04afdf2a54c6743"
      }
     },
     "a9a7c5544d55451b98183e07971c6a7b": {
      "model_module": "@jupyter-widgets/controls",
      "model_module_version": "1.5.0",
      "model_name": "VBoxModel",
      "state": {
       "children": [
        "IPY_MODEL_c442a4f74ef14fe694f06f3c23b133ed",
        "IPY_MODEL_9dd7340797c04f85a0f4db1bd9e33a16"
       ],
       "layout": "IPY_MODEL_6b119e1cff1841ed93f5e4d4ae0ad031"
      }
     },
     "b407a5abc07f40afb34fad2e4f9ff196": {
      "model_module": "@jupyter-widgets/controls",
      "model_module_version": "1.5.0",
      "model_name": "IntSliderModel",
      "state": {
       "continuous_update": false,
       "description": "Month:",
       "layout": "IPY_MODEL_847e42de3f604e618e9d3a2cd329f5b1",
       "max": 12,
       "min": 1,
       "style": "IPY_MODEL_69409baf69d54e658821f8c4fe2e0638",
       "value": 1
      }
     },
     "b7c34a025f1b4c719cffcd6b5853ef14": {
      "model_module": "@jupyter-widgets/base",
      "model_module_version": "1.2.0",
      "model_name": "LayoutModel",
      "state": {}
     },
     "c442a4f74ef14fe694f06f3c23b133ed": {
      "model_module": "@jupyter-widgets/controls",
      "model_module_version": "1.5.0",
      "model_name": "HBoxModel",
      "state": {
       "children": [
        "IPY_MODEL_a1d600dab2704607882c036ffed443ba"
       ],
       "layout": "IPY_MODEL_b7c34a025f1b4c719cffcd6b5853ef14"
      }
     }
    },
    "version_major": 2,
    "version_minor": 0
   }
  }
 },
 "nbformat": 4,
 "nbformat_minor": 4
}
