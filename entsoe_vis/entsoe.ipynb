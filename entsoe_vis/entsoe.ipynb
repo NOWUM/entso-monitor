{
 "cells": [
  {
   "cell_type": "markdown",
   "metadata": {},
   "source": [
    "# ENTSO-E Daten\n",
    "\n",
    "Die Daten der European Network of Transmission System Operators for Electricity (ENTSO-E) werden auf dem Transparenzportal veröffentlicht.\n",
    "\n",
    "Über eine API lassen sich die Daten, sowie Historiendaten abfragen.\n",
    "\n",
    "Diese werden mithilfe von Python analysiert und visualisiert.\n",
    "\n",
    "Durch Plotly wurde unter https://nicht.datensch.eu/entsoe ein Dashboard der Daten erstellt.\n",
    "\n",
    "ähnliche unabhängige Projekte:\\\n",
    "https://energy-charts.info/ \\\n",
    "https://www.electricitymap.org/map"
   ]
  },
  {
   "cell_type": "markdown",
   "metadata": {},
   "source": [
    "<h1 id=\"tocheading\">Inhaltsverzeichnis</h1>\n",
    "<div id=\"toc\"></div>\n",
    "<script src=\"http://ajax.googleapis.com/ajax/libs/jquery/1.7.1/jquery.min.js\" type=\"text/javascript\"></script>\n",
    "<script src=\"https://kmahelona.github.io/ipython_notebook_goodies/ipython_notebook_toc.js\"></script>"
   ]
  },
  {
   "cell_type": "code",
   "execution_count": null,
   "metadata": {},
   "outputs": [],
   "source": [
    "%%javascript\n",
    "//erzeugt Inhaltsverzeichnis\n",
    "//https://github.com/kmahelona/ipython_notebook_goodies\n",
    "$.getScript('https://kmahelona.github.io/ipython_notebook_goodies/ipython_notebook_toc.js')"
   ]
  },
  {
   "cell_type": "markdown",
   "metadata": {},
   "source": [
    "## Begriffserklärungen / Glossar\n",
    "\n",
    "* **Generation** beschreibt das erzeugte, also den gesamten eingespeisten Strom, ohne absorbierter Energie\n",
    "* **Load/Last** beschreibt \"das Verbrauchte\", also das Erzeugte und Importierte minus absorbiertem und exportiertem.\n",
    "\n",
    "die aktuellen Werte werden i.d.R. über ein 15 Minuten Mittel erhalten. Manche Länder senden jedoch nur stündlich ihre Daten.\n",
    "Die Energie lässt sich dadurch durch Leistung * Zeit berechnen.\n",
    "\n",
    "Eine Umrechnung in kWh bedeutet also ein Teilen durch Faktor 4 der Summe (wenn Stunde die Gruppierung ist)"
   ]
  },
  {
   "cell_type": "markdown",
   "metadata": {},
   "source": [
    "## Bedienung der interaktiven Grafiken\n",
    "\n",
    "Die Plots wurden mit Plotly erstellt.\n",
    "\n",
    "* Diese Bibliothek erlaubt es durch anklicken in der Legende eine Datenreihe auszublenden.\n",
    "* Durch ein Doppelklick auf eine Datenreihe kann eine Datenreihe isoliert betrachtet werden. Anschließend können weitere zu betrachtene Datenreihen ausgewählt werden\n",
    "* Durch ziehen eines Intervalls, kann man einen genaueren Betrachtungsraum auswählen. Ein Doppelklick in das Diagramm springt wieder zum Ursprungsbereich"
   ]
  },
  {
   "cell_type": "markdown",
   "metadata": {},
   "source": [
    "# API-Analysen, Erklärung der grundlegenden Funktionen und Erkenntnisse"
   ]
  },
  {
   "cell_type": "markdown",
   "metadata": {},
   "source": [
    "## Daten abfragen und speichern\n",
    "\n",
    "Die Daten stehen über eine API zur Verfügung. Hierzu benötigt man einen api_key, welchen man mit einer Mail-Adresse beantragen kann.\n",
    "Anschließend kann man anfragen an die API stellen. Hierzu benötigt man für jede Area den zugehörigen Code.\n",
    "Diese antwortet mit CSV bzw manchmal gezipptem CSV.\n",
    "Die API findet sich unter dem Endpunkt: https://transparency.entsoe.eu/api\n",
    "\n",
    "Der Umgang hiermit wird erheblich durch eine bestehende Python-Bibliothek erleichtert.\n",
    "\n",
    "Mit der entsoe-py Bibliothek können wir die Daten direkt als Pandas-DataFrame runterladen.\n",
    "Diese stellt die folgenden Endpunkte bereit:"
   ]
  },
  {
   "cell_type": "code",
   "execution_count": null,
   "metadata": {},
   "outputs": [],
   "source": [
    "import pandas as pd\n",
    "from entsoe import EntsoePandasClient\n",
    "import matplotlib.pyplot as plt\n",
    "client = EntsoePandasClient(api_key='ae2ed060-c25c-4eea-8ae4-007712f95375')\n",
    "\n",
    "object_methods = [method_name for method_name in dir(client)\n",
    "                  if callable(getattr(client, method_name))]\n",
    "# only public ones\n",
    "list(filter(lambda k: not str.startswith(k,'_'), object_methods))"
   ]
  },
  {
   "cell_type": "markdown",
   "metadata": {},
   "source": [
    "wir beschränken uns hierbei auf:\n",
    "* die Auslastung: `query_load`,\n",
    "* die generierte Energie: `query_generation`,\n",
    "* die generierte Energie pro Kraftwerk: `query_generation_per_plant`\n",
    "* die vorhandenen Kapazitäten: `query_installed_generation_capacity`\n",
    "* diese gibt es auch noch pro Kraftwerk: `query_installed_generation_capacity_per_unit`\n",
    "* außerdem gibt es noch die Übertragungsdaten zwischen den Ländern: `query_crossborder_flows`"
   ]
  },
  {
   "cell_type": "markdown",
   "metadata": {},
   "source": [
    "Der Beginn der Datenaufzeichnungen im neuen Format der ENTSO-E ist der 1.1.2015 für Deutschland. Andere Länder haben erst später mit den Aufzeichnungen angefangen."
   ]
  },
  {
   "cell_type": "code",
   "execution_count": null,
   "metadata": {},
   "outputs": [],
   "source": [
    "# german data available since\n",
    "begin = pd.Timestamp('20150101', tz='Europe/Berlin')"
   ]
  },
  {
   "cell_type": "markdown",
   "metadata": {},
   "source": [
    "Schauen wir uns mal die Auslastung der letzten 5 Tage an"
   ]
  },
  {
   "cell_type": "code",
   "execution_count": null,
   "metadata": {},
   "outputs": [],
   "source": [
    "from datetime import datetime, date, timedelta\n",
    "from entsoe.mappings import PSRTYPE_MAPPINGS,NEIGHBOURS,Area\n",
    "areas = pd.DataFrame([[e.name,e.value,e._tz,e._meaning] for e in Area])\n",
    "load = pd.DataFrame()\n",
    "country_code = 'DE'\n",
    "\n",
    "today=datetime.strftime(datetime.now().date(),'%Y%m%d')\n",
    "prev5=datetime.now().date()-timedelta(days=5)\n",
    "prev5str=datetime.strftime(prev5,'%Y%m%d')\n",
    "\n",
    "start = pd.Timestamp(prev5str, tz='Europe/Berlin')\n",
    "end = pd.Timestamp(today, tz='Europe/Berlin')\n",
    "\n",
    "load[country_code] = client.query_load(country_code, start=start,end=end)\n"
   ]
  },
  {
   "cell_type": "code",
   "execution_count": null,
   "metadata": {},
   "outputs": [],
   "source": [
    "df = pd.DataFrame(load['DE'])\n",
    "\n",
    "import plotly.express as px \n",
    "fig = px.line(df, x=df.index, y='DE', title='Load for Germany')\n",
    "fig.update_layout(\n",
    "    title=\"Netzlast der letzten 5 Tage in DE\",\n",
    "    xaxis_title=\"Zeit\",\n",
    "    yaxis_title=\"Leistung in MW\")\n",
    "fig.show()"
   ]
  },
  {
   "cell_type": "markdown",
   "metadata": {},
   "source": [
    "Zu beachten ist hierbei, dass die Daten zum einen pro Land erfasst werden, zum anderen auch pro BiddingZone, also pro Marktgebiet.\n",
    "So gibt es ebenfalls Daten für DE, DE_LU, DE_AT_LU, DE_50HERTZ, DE_AMPRION.\n",
    "\n",
    "Die Unterscheidung muss für alle Datenwerte beachtet werden, was visualisiert werden soll.\n",
    "\n",
    "Intern gibt es für diese Bereiche noch eine nicht lesbare ID. Die Übersetzung in die Marktgebiete wie sie auf der Webseite zu finden sind, erfolgt bereits in dem Python-Package"
   ]
  },
  {
   "cell_type": "code",
   "execution_count": null,
   "metadata": {
    "scrolled": true
   },
   "outputs": [],
   "source": [
    "for e in Area:\n",
    "    print(e.name)"
   ]
  },
  {
   "cell_type": "markdown",
   "metadata": {},
   "source": [
    "Bzw sind hier zu finden:\n",
    "https://transparency.entsoe.eu/content/static_content/Static%20content/web%20api/Guide.html#_areas"
   ]
  },
  {
   "cell_type": "markdown",
   "metadata": {},
   "source": [
    "## Karte der Kraftwerke\n",
    "\n",
    "Die Kraftwerke eines Marktgebietes kann man sich über die API runterladen:"
   ]
  },
  {
   "cell_type": "code",
   "execution_count": null,
   "metadata": {
    "scrolled": true
   },
   "outputs": [],
   "source": [
    "def getProductionData():\n",
    "    prod = client.query_installed_generation_capacity_per_unit('DE_AT_LU',start=start,end=end)\n",
    "    prod = pd.concat([prod,client.query_installed_generation_capacity_per_unit('BE',start=start,end=end)])\n",
    "    prod = pd.concat([prod,client.query_installed_generation_capacity_per_unit('DE_AMPRION',start=start,end=end)])\n",
    "    prod = pd.concat([prod,client.query_installed_generation_capacity_per_unit('DE_50HZ',start=start,end=end)])\n",
    "    prod = pd.concat([prod,client.query_installed_generation_capacity_per_unit('DE_LU',start=start,end=end)])\n",
    "    prod = pd.concat([prod,client.query_installed_generation_capacity_per_unit('FR',start=start,end=end)])\n",
    "    prod = pd.concat([prod,client.query_installed_generation_capacity_per_unit('CH',start=start,end=end)])\n",
    "    prod = pd.concat([prod,client.query_installed_generation_capacity_per_unit('AT',start=start,end=end)])\n",
    "    prod = pd.concat([prod,client.query_installed_generation_capacity_per_unit('GB',start=start,end=end)])\n",
    "    prod.index.name ='eic_code'\n",
    "    return prod\n",
    "\n",
    "%time prod = getProductionData()\n",
    "prod.head()"
   ]
  },
  {
   "cell_type": "markdown",
   "metadata": {},
   "source": [
    "Die erste Spalte ist hierbei der Energy-Identification-Code (EIC_CODE)\n",
    "\n",
    "Siehe https://www.entsoe.eu/data/energy-identification-codes-eic/eic-approved-codes/"
   ]
  },
  {
   "cell_type": "markdown",
   "metadata": {},
   "source": [
    "Allerdings sind hier keine Koordinaten enthalten. Die Koordinaten für \"Konventionelle Kraftwerke\" werden glücklicherweise von einer externen Webseite bereitgestellt:\n",
    "\n",
    "Leider konnte ich keine Quelle finden, welche die Werte frei verfügbar nach EI_CODE aufgeschlüsselt für Solar und Wind ebenfalls enthält."
   ]
  },
  {
   "cell_type": "code",
   "execution_count": null,
   "metadata": {},
   "outputs": [],
   "source": [
    "df = pd.read_csv('https://data.open-power-system-data.org/conventional_power_plants/latest/conventional_power_plants_EU.csv')\n",
    "# uns interessieren nur Daten, welche auch Koordinaten und einen Key enthalten\n",
    "df.dropna(axis=0,subset=['lon','lat','eic_code'],inplace=True)\n",
    "df.index = df['eic_code']"
   ]
  },
  {
   "cell_type": "markdown",
   "metadata": {},
   "source": [
    "Nun können wir durch einen join der Datasets eine Karte von Kraftwerken erstellen:"
   ]
  },
  {
   "cell_type": "code",
   "execution_count": null,
   "metadata": {},
   "outputs": [],
   "source": [
    "joined = prod.join(df, on='eic_code', how='inner')[['Name','lon','lat','capacity','Production Type','country']]\n",
    "#joined.dropna(axis=0,subset=['lon','lat'],inplace=True)\n",
    "\n",
    "newDf = prod.drop(df['eic_code'], errors='ignore').reset_index(drop=False)\n",
    "print(prod.shape)\n",
    "print(joined.shape)\n",
    "\n",
    "prod['eic']=prod.index\n",
    "p = pd.concat([prod['eic'],df['eic_code']],axis=0)\n",
    "p =p.drop_duplicates(keep=False)"
   ]
  },
  {
   "cell_type": "code",
   "execution_count": null,
   "metadata": {},
   "outputs": [],
   "source": [
    "pd.set_option('display.max_rows', 1000)\n",
    "joined2 = prod.join(df, on='eic_code', how='outer')[['Name','lon','lat','capacity','Production Type','country']]"
   ]
  },
  {
   "cell_type": "markdown",
   "metadata": {},
   "source": [
    "Die geringsten Kapazitäten haben hierbei Schweizer-Wasserspeicher."
   ]
  },
  {
   "cell_type": "code",
   "execution_count": null,
   "metadata": {
    "scrolled": false
   },
   "outputs": [],
   "source": [
    "joined2.sort_values('capacity')[:50]"
   ]
  },
  {
   "cell_type": "code",
   "execution_count": null,
   "metadata": {},
   "outputs": [],
   "source": [
    "import plotly.express as px\n",
    "fig = px.scatter_mapbox(joined, lat=\"lat\", lon=\"lon\", color='country',hover_name=\"Name\",hover_data=[\"capacity\",'Production Type'],zoom=3)\n",
    "fig.update_layout(title=\"Kraftwerkskarte, konventionelle Energie, nach Ländern\",mapbox_style=\"open-street-map\",margin={\"r\":0,\"l\":0,\"b\":0})\n",
    "fig.show()"
   ]
  },
  {
   "cell_type": "markdown",
   "metadata": {},
   "source": [
    "Die Karte kann man nach Ländern filtern und sich einzelne Punkte oder Länder ansehen.\n",
    "\n",
    "Alternativ kann man die Karte farblich statt nach Ländern auch nach Kraftwerktyp visualisieren:"
   ]
  },
  {
   "cell_type": "code",
   "execution_count": null,
   "metadata": {},
   "outputs": [],
   "source": [
    "import plotly.express as px\n",
    "fig = px.scatter_mapbox(joined, lat=\"lat\", lon=\"lon\", color='Production Type',hover_name=\"Name\",hover_data=[\"capacity\",'Production Type'],zoom=3)\n",
    "fig.update_layout(title=\"Kraftwerkskarte, konventionelle Energie, nach Production Type\",mapbox_style=\"carto-positron\",margin={\"r\":0,\"l\":0,\"b\":0})\n",
    "fig.show()"
   ]
  },
  {
   "cell_type": "code",
   "execution_count": null,
   "metadata": {},
   "outputs": [],
   "source": [
    "# areas containing load content\n",
    "def createValidAreas():\n",
    "    valid_areas=[]\n",
    "    for e in Area:\n",
    "        country_code = e.name\n",
    "        try:\n",
    "            load[country_code] = client.query_load(country_code, start=start,end=end)\n",
    "            valid_areas.append(country_code)\n",
    "        except Exception as e:\n",
    "            pass\n",
    "            #print('failed:',country_code, e)\n",
    "    valid_countries = list(filter(lambda x: len(x)<=2,valid_areas))\n",
    "    return valid_areas, valid_countries\n",
    "\n",
    "# takes ~40s\n",
    "%time valid_areas, valid_countries = createValidAreas()"
   ]
  },
  {
   "cell_type": "code",
   "execution_count": null,
   "metadata": {},
   "outputs": [],
   "source": [
    "print('Countries:',\"['\"+\"','\".join(valid_countries)+\"']\")"
   ]
  },
  {
   "cell_type": "code",
   "execution_count": null,
   "metadata": {},
   "outputs": [],
   "source": [
    "import plotly.graph_objects as go\n",
    "data= []\n",
    "valid_countries=['DE','BE','NL','FR','CZ','PL','NO','IT','ES']\n",
    "#for country_code in valid_countries:\n",
    "for country_code in ['DE','BE','NL','FR','CZ','PL','NO','IT','ES']:\n",
    "    load[country_code]=client.query_load(country_code, start=start,end=end)\n",
    "    data.append(go.Scatter(x=load.index,y=load[country_code]/1000,name=country_code,   \n",
    "        fill='tozeroy',\n",
    "        fillcolor='rgba(26,0,65,0.1)',\n",
    "        #stackgroup='one',\n",
    "        #stackgaps='interpolate'\n",
    "        ))"
   ]
  },
  {
   "cell_type": "code",
   "execution_count": null,
   "metadata": {},
   "outputs": [],
   "source": [
    "import plotly.express as px\n",
    "import plotly.graph_objects as go\n",
    "from ipywidgets import widgets\n",
    "all_data= data\n",
    "textbox = widgets.Dropdown(\n",
    "    description='Länder:   ',\n",
    "    value='Alle',\n",
    "    options=valid_countries+['Alle'],\n",
    "    multiselect=True,\n",
    ")\n",
    "\n",
    "fig = go.FigureWidget(data=data)\n",
    "\n",
    "fig.update_layout(\n",
    "    title=\"Netzlast der Länder\",\n",
    "    xaxis_title=\"Zeit\",\n",
    "    yaxis_title=\"Leistung in MW\",\n",
    "    legend_title=\"Länder\",\n",
    "    font=dict(\n",
    "        #family=\"Courier New, monospace\",\n",
    "        #size=18,\n",
    "        #color=\"RebeccaPurple\"\n",
    "    ),)\n",
    "\n",
    "import time\n",
    "def response(change):\n",
    "    with fig.batch_update():\n",
    "        fig.data = []        \n",
    "        if textbox.value=='Alle':\n",
    "            for country_code in ['DE','BE','NL','FR','CZ','PL','NO','IT','ES']:\n",
    "                load[country_code]=client.query_load(country_code, start=start,end=end)\n",
    "                fig.add_trace(go.Scatter(x=load.index,y=load[country_code]/1000,name=country_code,   \n",
    "                    fill='tozeroy',\n",
    "                    fillcolor='rgba(26,0,65,0.1)',\n",
    "                    #stackgroup='one',\n",
    "                    #stackgaps='interpolate'\n",
    "                    ))\n",
    "        else:\n",
    "            fig.add_trace(go.Scatter(x=load.index,y=load[textbox.value]/1000,name=textbox.value,\n",
    "                fill='tozeroy',\n",
    "                fillcolor='rgba(26,0,65,0.1)',\n",
    "                #stackgroup='one',\n",
    "                #stackgaps='interpolate'\n",
    "                ))\n",
    "        fig.update_layout(showlegend=True)\n",
    "textbox.observe(response, names=\"value\")\n",
    "\n",
    "#fig.show()\n",
    "widgets.VBox([widgets.HBox([textbox]),\n",
    "              fig])"
   ]
  },
  {
   "cell_type": "markdown",
   "metadata": {},
   "source": [
    "Die Verläufe sind in ihrer Bewegung der Netzauslastung sehr ähnlich. Je größer das Land, desto größer sind auch die Schwankungen.\n",
    "\n",
    "Wenn man sich die Daten anguckt, sieht man, dass nicht alle Daten viertelstündlich, wie DE vorliegen. Spanien (ES) melde die Daten nur stündlich. Das muss bei der Speicherung beachtet werden.\n",
    "\n",
    "Betrachten wir noch die Kapazitäten der Länder:"
   ]
  },
  {
   "cell_type": "markdown",
   "metadata": {},
   "source": [
    "## Kapazität der Länder nach Jahren"
   ]
  },
  {
   "cell_type": "code",
   "execution_count": null,
   "metadata": {
    "scrolled": true
   },
   "outputs": [],
   "source": [
    "start1 = pd.Timestamp('20150101', tz='Europe/Berlin')\n",
    "end1 = pd.Timestamp('20200102', tz='Europe/Berlin')\n",
    "def getCapacities():\n",
    "    capacity = {}\n",
    "    for country_code in valid_countries:\n",
    "        capacity[country_code] = client.query_installed_generation_capacity(country_code, start=start1,end=end1)\n",
    "    return capacity\n",
    "\n",
    "%time capacity = getCapacities()"
   ]
  },
  {
   "cell_type": "code",
   "execution_count": null,
   "metadata": {
    "scrolled": false
   },
   "outputs": [],
   "source": [
    "from ipywidgets import widgets\n",
    "\n",
    "country_code =list(capacity.keys())[0]\n",
    "\n",
    "textbox = widgets.Dropdown(\n",
    "    description='Länder:   ',\n",
    "    value=country_code,\n",
    "    options=list(capacity.keys()),\n",
    ")\n",
    "data= []\n",
    "curDat = capacity[country_code]\n",
    "curDat.fillna(0,inplace=True)\n",
    "for fuel in list(curDat.keys()):\n",
    "        data.append(go.Bar(x=curDat.index,y=curDat[fuel]/1000,name=fuel,   \n",
    "    #fill='tozeroy',\n",
    "    #stackgroup='one',\n",
    "    #stackgaps='interpolate'\n",
    "    ))\n",
    "\n",
    "fig = go.FigureWidget(data=data)\n",
    "fig.update_layout(\n",
    "    title=\"Erzeugungskapazitäten der Länder, unterteilt nach Sorte\",\n",
    "    xaxis_title=\"Jahr\",\n",
    "    yaxis_title=\"Erzeugungskapazität in MW\",\n",
    "    legend_title=\"Sorten\",\n",
    "    barmode='stack',\n",
    "    font=dict(\n",
    "        #family=\"Courier New, monospace\",\n",
    "        #size=18,\n",
    "        #color=\"RebeccaPurple\"\n",
    "    ),)\n",
    "\n",
    "def response(change):\n",
    "    with fig.batch_update():\n",
    "        fig.data = []\n",
    "        curDat = capacity[textbox.value]\n",
    "        curDat.fillna(0,inplace=True)\n",
    "        for fuel in list(curDat.keys()):\n",
    "            fig.add_trace(go.Bar(x=curDat.index,y=curDat[fuel]/1000,name=fuel,                   \n",
    "                ))\n",
    "        fig.update_layout(showlegend=True,barmode='stack')\n",
    "textbox.observe(response, names=\"value\")\n",
    "\n",
    "#fig.show()\n",
    "\n",
    "widgets.VBox([widgets.HBox([textbox]),\n",
    "              fig])"
   ]
  },
  {
   "cell_type": "markdown",
   "metadata": {},
   "source": [
    "Hier erkennt man sehr gut den jeweiligen Energiemix der Länder.\n",
    "\n",
    "Frankreich setzt sehr auf Kernenergie. DE hat einen sehr gemischten Energiemix.\n",
    "\n",
    "Italien hat 2015 und 2016 \"Other\", Datenlage wurde jedoch aufgebessert"
   ]
  },
  {
   "cell_type": "markdown",
   "metadata": {},
   "source": [
    "Hier hat man leider auch nicht immer die selben verfügbaren Werte. Zur Speicherung in einer Datenbank muss man also das Schema dynamisch aufbauen oder vorher alle jemals verfügbaren Erzeugnisformen kennen.\n",
    "\n",
    "Später möchte man in einer Visualisierung den einzelnen Erzeugnissen auch immer die selbe Farbe geben (Solar=gelb,Kohle=Schwarz usw), weshalb man auch hier mit fehlenden oder hinzukommenden Werten klar kommen muss.  \n",
    "\n",
    "Holprig wird es erst bei den Stromerzeugungs-Daten:"
   ]
  },
  {
   "cell_type": "markdown",
   "metadata": {},
   "source": [
    "## Stromerzeugung in Deutschland in aktueller Woche"
   ]
  },
  {
   "cell_type": "code",
   "execution_count": null,
   "metadata": {},
   "outputs": [],
   "source": [
    "def replaceStr(string):\n",
    "    '''\n",
    "    Apache Spark gefallen einige Zeichen der Columns nicht.\n",
    "    Diese werden hier ersetzt\n",
    "    '''\n",
    "    \n",
    "    st = str.replace(string,')','')\n",
    "    st = str.replace(st,'(','')\n",
    "    st = str.replace(st,',','')\n",
    "    st = str.replace(st,\"'\",'')\n",
    "    st = st.strip()\n",
    "    st = str.replace(st,' ','_')\n",
    "    return st"
   ]
  },
  {
   "cell_type": "markdown",
   "metadata": {},
   "source": [
    "Zunächst holen wir uns die Daten über die API:"
   ]
  },
  {
   "cell_type": "code",
   "execution_count": null,
   "metadata": {},
   "outputs": [],
   "source": [
    "#gen=pd.DataFrame() # does not work with differing columns\n",
    "gen={}\n",
    "country='GR'\n",
    "gen[country] = client.query_generation(country, start=start,end=end) # no data for DE\n",
    "gen[country]['time']=gen[country].index\n",
    "country='DE'\n",
    "gen[country] = client.query_generation(country, start=start,end=end) # no data for DE\n",
    "gen[country]['time']=gen[country].index"
   ]
  },
  {
   "cell_type": "code",
   "execution_count": null,
   "metadata": {},
   "outputs": [],
   "source": [
    "gen['DE'].head()"
   ]
  },
  {
   "cell_type": "code",
   "execution_count": null,
   "metadata": {},
   "outputs": [],
   "source": [
    "gen['GR'].head()"
   ]
  },
  {
   "cell_type": "markdown",
   "metadata": {},
   "source": [
    "Man sieht also, dass die Daten unterschiedliche Strukturen haben. Nicht immer erfolgt die Aufschlüsselung nach Erzeugnissen (Actual Aggregated) und der zur Erzeugung benötigten Energie (actual Consumption)\n",
    "\n",
    "Hierzu müssen die Daten über die Differenzen gebildet werden:"
   ]
  },
  {
   "cell_type": "code",
   "execution_count": null,
   "metadata": {},
   "outputs": [],
   "source": [
    "#convert multiindex to single index\n",
    "gen['DE'].columns = list(map(replaceStr, map(str,gen['DE'].columns)))\n",
    "# unpivot data for visualization\n",
    "g = gen['DE'].melt(id_vars=['time'],  var_name='kind', value_name='value')"
   ]
  },
  {
   "cell_type": "code",
   "execution_count": null,
   "metadata": {},
   "outputs": [],
   "source": [
    "import plotly.express as px \n",
    "fig = px.line(g, x='time', y='value', color='kind',title='Stromerzeugnis in Deutschland der letzten 5 Tage in kWh')\n",
    "\n",
    "fig.show()"
   ]
  },
  {
   "cell_type": "markdown",
   "metadata": {},
   "source": [
    "In dieser Grafik kann man mit einem Doppelklick auf \"Hydro Pumped Storage Actual Aggregated\" und anschließendem einfach Klick \"Hydro Pumped Storage Actual Consumption\" sich zwei Series zusammen angucken.\n",
    "\n",
    "Hier sieht man, dass der Pumpwasserspeicher tagsüber Strom erhält und nachts Strom in das Netz einspeist.\n",
    "\n",
    "\n",
    "Für Griechenland erhält man diese Daten nicht aufgeschlüsselt, weshalb hier nur der eingespeiste Wert verfügbar ist."
   ]
  },
  {
   "cell_type": "code",
   "execution_count": null,
   "metadata": {},
   "outputs": [],
   "source": [
    "#convert multiindex to single index\n",
    "gen['GR'].columns = list(map(replaceStr, map(str,gen['GR'].columns)))\n",
    "# unpivot data for visualization\n",
    "g = gen['GR'].melt(id_vars=['time'],  var_name='kind', value_name='value')"
   ]
  },
  {
   "cell_type": "code",
   "execution_count": null,
   "metadata": {},
   "outputs": [],
   "source": [
    "import plotly.express as px \n",
    "fig = px.line(g, x='time', y='value', color='kind')\n",
    "fig.update_layout(\n",
    "    title='Stromerzeugnis in Griechenland der letzten 5 Tage in kWh',\n",
    "    xaxis_title=\"Datum\",\n",
    "    yaxis_title=\"Erzeugnis in kWh\",\n",
    "    legend_title=\"Erzeugungsform\",    \n",
    ")\n",
    "fig.show()"
   ]
  },
  {
   "cell_type": "markdown",
   "metadata": {},
   "source": [
    "Damit man diese Daten nun unter einen Hut bekommt, muss man nun jeweils die Differenz zwischen Consumption und Aggregation erhalten und den MultiIndex gegebenenfalls umbenennen."
   ]
  },
  {
   "cell_type": "code",
   "execution_count": null,
   "metadata": {},
   "outputs": [],
   "source": [
    "def calcDiff(data):\n",
    "    '''\n",
    "    Berechnet jeweils Differenzen zwischen den zugehörigen zwei Spalten.\n",
    "    '''\n",
    "    dat=data\n",
    "    for c in filter(lambda x:x.endswith('_actual_aggregated'), dat.columns):        \n",
    "        new = str.replace(c,'_actual_aggregated','')\n",
    "        dif = list(filter(lambda x: x.endswith('_actual_consumption') and x.startswith(new), dat.columns ))\n",
    "        if len(dif) > 0:\n",
    "            # wenn es beides gibt wird die Differenz gebildet\n",
    "            print(dif[0])\n",
    "            dat[new]=dat[c]-dat[dif[0]]\n",
    "            del dat[c]\n",
    "            del dat[dif[0]]\n",
    "        else:\n",
    "            # sonst wird direkt \n",
    "            dat[new]=dat[c]\n",
    "            del dat[c]\n",
    "    for c in filter(lambda x:x.endswith('_actual_consumption'), dat.columns):\n",
    "        # wenn es nur Verbrauch aber kein Erzeugnis gibt, mach negativ\n",
    "        new = str.replace(c,'_actual_consumption','')\n",
    "        dat[new]=-dat[c]\n",
    "        del dat[c]\n",
    "    return dat"
   ]
  },
  {
   "cell_type": "code",
   "execution_count": null,
   "metadata": {},
   "outputs": [],
   "source": [
    "data = gen['DE']"
   ]
  },
  {
   "cell_type": "code",
   "execution_count": null,
   "metadata": {},
   "outputs": [],
   "source": [
    "data.columns = list(map(replaceStr, map(str,data.columns)))\n",
    "data.fillna(0, inplace=True)\n",
    "# calculate difference betweeen agg and consumption\n",
    "data=calcDiff(data)"
   ]
  },
  {
   "cell_type": "markdown",
   "metadata": {},
   "source": [
    "Nun haben wir einheitliche Namen der Erzeugnisformen:"
   ]
  },
  {
   "cell_type": "code",
   "execution_count": null,
   "metadata": {},
   "outputs": [],
   "source": [
    "list(data.columns)[1:]"
   ]
  },
  {
   "cell_type": "markdown",
   "metadata": {},
   "source": [
    "In Deutschland erhalten wir nun die Netto Erzeugnisse. Das erzeugt für den Pumpspeicher negative Werte, was die Interpretation auch erleichtert.\n",
    "\n",
    "Im Area-Plot ist die Visualisierung trotzdem korrekt und stellt die Erzeugung nach Erzeugungsform dar."
   ]
  },
  {
   "cell_type": "code",
   "execution_count": null,
   "metadata": {},
   "outputs": [],
   "source": [
    "g = data.melt(id_vars=['time'],  var_name='kind', value_name='value')\n",
    "fig = px.area(g, x='time', y='value', color='kind')\n",
    "fig.update_layout(\n",
    "    title='Stromerzeugnis in Deutschland der letzten 5 Tage in kWh',\n",
    "    xaxis_title=\"Datum\",\n",
    "    hovermode=\"closest\",\n",
    "    yaxis_title=\"Erzeugnis in kWh\",\n",
    "    legend_title=\"Erzeugungsform\",    \n",
    ")\n",
    "fig.show()"
   ]
  },
  {
   "cell_type": "markdown",
   "metadata": {},
   "source": [
    "# Speicherung der Daten\n",
    "\n",
    "Bisher haben wir alle Analysen auf den Daten der API gemacht.\n",
    "Um Analysen über die Historie durchzuführen, müssen die Daten paketweise von der API runtergeladen werden und in einem sinnvollen Format abgespeichert werden.\n",
    "\n",
    "Nach einem ersten Ansatz, welcher pro Land eine eigene Tabelle vorsah, wurde nun das folgende Datenbank-Schema gewählt:\n",
    "\n",
    "![ER-Diagramm](diagrams-ENTSO-E.png)\n",
    "\n",
    "Hier gibt es nur noch für die Kraftwerks-Erzeugungen eine eigene Tabelle pro Land.\n",
    "Wobei diese vermutlich auch sinnvoller als unpivot Tabelle behandelt werden sollte.\n",
    "\n",
    "Es ist möglich die Daten in Parquet zu speichern.\n",
    "Ein andere sinnvolle Möglichkeit erscheint SQLite zu sein, da man es recht leicht ansprechen kann und dank in-memory-Datenbanken auch ordentlich Performance in einem nicht-verteilten System erhält.\n",
    "Da lediglich viertelstündlich Daten gespeichert werden und die Datenmenge ungefähr 60 Länder * ~ 16 Spalten + 60 Länder * ~50 Kraftwerke also ganz grob 3600 Werte pro Viertelstunde enthält, welche in einem relationalen Format gespeichert werden, kommt man hier mit konventionellen RDBMS gut davon."
   ]
  },
  {
   "cell_type": "markdown",
   "metadata": {},
   "source": [
    "Zum Herunterladen der Daten wurde eine Klasse angelegt, welche die Paketierung übernimmt und sowohl die Speicherung in eine SQLite-Tabelle übernimmt, wie auch in Parquet übernimmt.\n",
    "\n",
    "Hierbei wurde viel mit der Speicherung der Datumswerte und einer Partitionierung der Parquet-Dateien experimentiert, welche Performance-technisch auf dem Programmier-Laptop nichts änderten"
   ]
  },
  {
   "cell_type": "markdown",
   "metadata": {},
   "source": [
    "Die Filtern der Zeitwerte läuft nativ schon sehr gut, da der String-Wert in der SQLite-Datenbank standardmäßig als Datum interpretiert wird.\n",
    "\n",
    "Der TimeStamp lässt sich in SQLite zur Gruppierung mit der SQLite-Funktion strftime manipulieren.\n",
    "Durch `strftime(\"%Y-%m-%d %H:00:00\", \"index\") as time` erhält man den zur Stunde abgeschnittenen Wert.\n",
    "Mit `strftime(\"%Y-%m-%d\", \"index\") as time` respektive den Wert für ein Zusammenfassen nach Tagen\n",
    "\n",
    "Eine Gruppierung nach `time` und aggregation mit avg bringt die gewünschten Ergebnisse."
   ]
  },
  {
   "cell_type": "markdown",
   "metadata": {},
   "source": [
    "Mit Apache Spark und Parquet läuft das ziemlich analog.\n",
    "\n",
    "Den TimeStamp kann man sich über die spark.sql.function date_trunc abschneiden lassen. Hier kann man direkt sagen, wo abgeschnitten werden soll: `spark_df.withColumn(\"time\", date_trunc('day',\"time\"))`"
   ]
  },
  {
   "cell_type": "markdown",
   "metadata": {},
   "source": [
    "## Einschub SPARK\n",
    "\n",
    "Der Einfachheithalber wurden die Daten bereits herunter geladen und mithilfe von Parquet abgespeichert"
   ]
  },
  {
   "cell_type": "code",
   "execution_count": null,
   "metadata": {},
   "outputs": [],
   "source": [
    "import findspark\n",
    "\n",
    "findspark.init()\n",
    "from pyspark import SparkConf\n",
    "from pyspark.sql import SparkSession\n",
    "import pandas as pd\n",
    "\n",
    "conf = SparkConf().setAppName('entsoe').setMaster('local')\n",
    "spark = SparkSession.builder.config(conf=conf).getOrCreate()\n",
    "spark"
   ]
  },
  {
   "cell_type": "code",
   "execution_count": null,
   "metadata": {},
   "outputs": [],
   "source": [
    "loadDE = spark.read.parquet('data/spark/DE/query_load')"
   ]
  },
  {
   "cell_type": "code",
   "execution_count": null,
   "metadata": {},
   "outputs": [],
   "source": [
    "beg=loadDE.select('time').rdd.min()\n",
    "end=loadDE.select('time').rdd.max()\n",
    "\n",
    "print('Datensequenz von {} bis {}'.format(beg[0],end[0]))"
   ]
  },
  {
   "cell_type": "code",
   "execution_count": null,
   "metadata": {},
   "outputs": [],
   "source": [
    "from pyspark.sql.functions import date_trunc\n",
    "groupTime='month'\n",
    "\n",
    "loadBE = spark.read.parquet('data/spark/BE/query_load').withColumn(groupTime, date_trunc(groupTime,\"time\"))\n",
    "floadBE = spark.read.parquet('data/spark/BE/query_load_forecast').withColumn(groupTime, date_trunc(groupTime,\"time\"))"
   ]
  },
  {
   "cell_type": "code",
   "execution_count": null,
   "metadata": {},
   "outputs": [],
   "source": [
    "%time pl=loadBE.groupby(groupTime).avg('0').toPandas()\n",
    "%time pf=floadBE.groupby(groupTime).avg('0').toPandas()"
   ]
  },
  {
   "cell_type": "code",
   "execution_count": null,
   "metadata": {},
   "outputs": [],
   "source": [
    "import plotly.express as px\n",
    "\n",
    "\n",
    "pl.sort_values(groupTime,inplace=True)\n",
    "pf.sort_values(groupTime,inplace=True)\n",
    "pf['forecast']=pf['avg(0)']\n",
    "pf['actual']=pl['avg(0)']\n",
    "fig = px.line(pf, x=groupTime, y=['actual','forecast'], title='Auslastung Belgien')\n",
    "fig.update_layout( xaxis_title='Datum',\n",
    "                   yaxis_title='Durchsatz in kW gemittelt pro Stunde')\n",
    "fig.show()"
   ]
  },
  {
   "cell_type": "markdown",
   "metadata": {},
   "source": [
    "Zum Vergleich das ganze auch in SQLite:"
   ]
  },
  {
   "cell_type": "code",
   "execution_count": null,
   "metadata": {},
   "outputs": [],
   "source": [
    "import sqlite3\n",
    "from contextlib import closing\n",
    "country = 'BE'\n",
    "selectString='strftime(\"%Y-%m-01\", \"index\") as time, avg(\"0\") as value'\n",
    "groupString='strftime(\"%Y-%m-01\", \"time\")'\n",
    "with closing(sqlite3.connect('data/entsoe.db')) as conn:\n",
    "    query = f\"select {selectString} from query_load where country='{country}' group by {groupString}\"\n",
    "    %time load = pd.read_sql_query(query,conn,index_col='time')\n",
    "    query = f\"select {selectString} from query_load_forecast where country='{country}' group by {groupString}\"\n",
    "    print(query)\n",
    "    %time forecast = pd.read_sql_query(query,conn,index_col='time')"
   ]
  },
  {
   "cell_type": "code",
   "execution_count": null,
   "metadata": {
    "scrolled": false
   },
   "outputs": [],
   "source": [
    "load['forecast']=forecast['value']\n",
    "\n",
    "fig = px.line(load, x=load.index, y=['value','forecast'], title='Auslastung Belgien')\n",
    "fig.update_layout( xaxis_title='Datum',\n",
    "                   yaxis_title='Durchsatz in kW gemittelt pro Stunde')\n",
    "fig.show()"
   ]
  },
  {
   "cell_type": "markdown",
   "metadata": {},
   "source": [
    "Man sieht hierbei, dass die SQLite-Abfrage 5-10 mal schneller ist als Apache Spark mit Parquet.\n",
    "\n",
    "Das liegt zum einen an der mit 5 GB Daten noch recht geringen Datenmenge, zum anderen daran, dass die Daten ordentlich gefiltert werden können.\n",
    "\n",
    "Einene Performance-Test auf dem Spark-Cluster hab ich mangels Zeit nicht durchgeführt."
   ]
  },
  {
   "cell_type": "markdown",
   "metadata": {},
   "source": [
    "# Analysen auf Basis der gesamten Historiendaten\n",
    "\n",
    "Da nun alle Historiendaten lokal verfügbar sind, können spannende Fragestellungen beantwortet werden. Auf einige ausgewählte möchte ich nachfolgend eingehen\n",
    "\n",
    "## Wie hat sich die Stromförderung durch Corona verändert?\n",
    "\n",
    "Spannend wären bspw Abweichungen von den Vormonaten."
   ]
  },
  {
   "cell_type": "code",
   "execution_count": null,
   "metadata": {},
   "outputs": [],
   "source": [
    "from entsoe_sqlite_manager import EntsoeSQLite, EntsoePlantSQLite, Filter\n",
    "import matplotlib.pyplot as plt\n",
    "import plotly.express as px\n",
    "from datetime import datetime, date, timedelta\n",
    "import pandas as pd\n",
    "\n",
    "country = 'DE'\n",
    "dm = EntsoeSQLite('data/entsoe.db')\n",
    "pdm = EntsoePlantSQLite('data/entsoe-plant.db')\n",
    "filt = Filter(datetime(2015, 3, 2), datetime(2020, 12, 2), 'month')"
   ]
  },
  {
   "cell_type": "markdown",
   "metadata": {},
   "source": [
    "### In Deutschland"
   ]
  },
  {
   "cell_type": "code",
   "execution_count": null,
   "metadata": {},
   "outputs": [],
   "source": [
    "load_germany_corona = dm.load(country,filt)\n",
    "fig = px.line(load_germany_corona, title='Netzlast Deutschland pro Monat seit 2015')\n",
    "fig.update_layout( xaxis_title='Datum',\n",
    "                   yaxis_title='Netzlast in kW')\n",
    "# uncomment this to get a view on the real dimensions\n",
    "#fig.update_yaxes(rangemode=\"tozero\")\n",
    "fig.show()"
   ]
  },
  {
   "cell_type": "markdown",
   "metadata": {},
   "source": [
    "Man kann hier deutlich erkennen, dass es vorher noch nie einen so starken Einbruch des Energiebedarfs gegeben hat wie zu Beginn der Pandemie 2020.\n",
    "\n",
    "Außerdem sieht man, dass im Winter viel geheizt wird und die Netzlast dadurch im Winter viel höher ist."
   ]
  },
  {
   "cell_type": "markdown",
   "metadata": {},
   "source": [
    "### Beispielsweise am Kraftwerk Weisweiler"
   ]
  },
  {
   "cell_type": "code",
   "execution_count": null,
   "metadata": {},
   "outputs": [],
   "source": [
    "plants = ['Weisweiler E','Weisweiler F','Weisweiler G','Weisweiler H']\n",
    "plantDat= pdm.plantGen(plants,filt).pivot(columns='name', values='value')"
   ]
  },
  {
   "cell_type": "code",
   "execution_count": null,
   "metadata": {},
   "outputs": [],
   "source": [
    "fig = px.line(plantDat, title='Netzlast Deutschland pro Monat seit 2015')\n",
    "fig.update_layout( xaxis_title='Datum',\n",
    "                   yaxis_title='Netzlast in kW')\n",
    "fig.show()"
   ]
  },
  {
   "cell_type": "markdown",
   "metadata": {},
   "source": [
    "In Weisweiler hat Sektor F schon Ende 2019 eine längere Wartung. Alle anderen Sektoren wurden zu Beginn der Pandemie deutlich runter gefahren."
   ]
  },
  {
   "cell_type": "markdown",
   "metadata": {},
   "source": [
    "## Fluss zu benachbarten Ländern\n",
    "\n",
    "\n",
    "* Karte mit Änderungsflüssen\n",
    "\n",
    "Es kann festgestellt werden wie der Fluss zu benachbarten Ländern ist.\n",
    "\n",
    "Hierzu kann beim Anklicken eines Landes der Netto-Transfer (Exportiert-importiert) berechnet werden.\n",
    "Die Daten müssen hierzu in ein geeignetes Format gebracht werden (neighbours Tabelle an crossboarders joinen..)\n",
    "Eigentlich müsste an jede Beziehung der Neighbours-Tabelle eine Series gejoined werden ->\n",
    "    realisieren durch crossboarder-Tabelle, welche alle nachbarschaftsbeziehungen als Key enthält"
   ]
  },
  {
   "cell_type": "markdown",
   "metadata": {},
   "source": [
    "Es gibt also eine Tabelle, welche für jede Beziehung zwischen benachbarten Ländern eine Spalte der Form from-to also beispielsweise FR-BE enthält.\n",
    "\n",
    "Nun muss man die Spalten filtern, welche vor dem - das gewünschte Kürzel enthält. (Export von Kürzel zu den Nachbarn)\n",
    "Anschließend kann man zu jeder Spalte die gedrehte Reihenfolge nehmen und erhält den Import eines Nachbarn.\n",
    "Somit kann man durch eine Differenz direkt den Netto-Fluss von der Datenbank abfragen.\n",
    "\n",
    "Für die SQLite Datenbank sieht das beispielswiese so aus:"
   ]
  },
  {
   "cell_type": "code",
   "execution_count": null,
   "metadata": {},
   "outputs": [],
   "source": [
    "def _selectBuilder(neighbours):\n",
    "    res = ''\n",
    "    for x in neighbours:\n",
    "        fr = x.split('-')[0]\n",
    "        to = x.split('-')[1]\n",
    "        # export - import\n",
    "        res += f'avg(\"{fr}-{to}\"-\"{to}-{fr}\") as diff_{to}'\n",
    "        res += ','\n",
    "    return res\n",
    "\n",
    "def _neighbours(fromC):\n",
    "    with closing(sqlite3.connect('data/entsoe.db')) as conn:\n",
    "        query = 'select * from query_crossborder_flows where 0=1'\n",
    "        columns = pd.read_sql_query(query, conn).columns\n",
    "    nei = []\n",
    "    for x in columns:\n",
    "        sp = x.split('-')\n",
    "        if sp[0] == fromC:\n",
    "            nei.append(x)\n",
    "            # nei.append(sp[1]+'.'+sp[0])\n",
    "    return nei"
   ]
  },
  {
   "cell_type": "code",
   "execution_count": null,
   "metadata": {},
   "outputs": [],
   "source": [
    "country = 'ES'\n",
    "\n",
    "with closing(sqlite3.connect('data/entsoe.db')) as conn:\n",
    "    nei = _neighbours(country)\n",
    "    n = _selectBuilder(nei)\n",
    "    selectString='strftime(\"%Y-%m-%d %H:00:00\", \"index\") as time,'\n",
    "    groupString='strftime(\"%Y-%m-%d  %H:00:00\", \"index\")'\n",
    "    \n",
    "    query = f'select {selectString}{n} \"index\" from query_crossborder_flows group by {groupString}'\n",
    "    print(query)\n",
    "    neigh = pd.read_sql(query,conn,index_col='index')"
   ]
  },
  {
   "cell_type": "code",
   "execution_count": null,
   "metadata": {
    "scrolled": false
   },
   "outputs": [],
   "source": [
    "fig = px.line(neigh, x=neigh.index, y=['diff_FR','diff_PT'], title='Netto Export an Nachbarn von Spanien')\n",
    "fig.update_layout( xaxis_title='Datum',\n",
    "                   yaxis_title='Export - Import an Nachbarn')\n",
    "fig.show()"
   ]
  },
  {
   "cell_type": "markdown",
   "metadata": {},
   "source": [
    "**durch ziehen eines Intervalls, kann man den Betrachtungsraum verkleinern. Ein Doppelklick in das Diagramm springt wieder in den Ursprungsbereich**"
   ]
  },
  {
   "cell_type": "markdown",
   "metadata": {},
   "source": [
    "Zu erkennen ist, dass Spanien von Portugal importiert und mehr nach Frankreich exportiert.\n",
    "\n",
    "Wählt man ein Intervall durch klicken und ziehen aus, so stellt man ebenso fest, dass grade in der Nacht von Frankreich importiert wird, während am Tag nach Frankreich exportiert wird.\n",
    "\n",
    "Von Portugal wird Strom tagsüber eingekauft (vermutlich an Frankreich weiter verkauft), während nachts Strom (vermutlich von Frankreich) nach Portugal verkauft wird.\n",
    "\n",
    "Das hängt damit zusammen, dass Portugal auf Windenergie setzt und zu milden Zeiten den Kernenergie-Strom aus Frankreich bezieht."
   ]
  },
  {
   "cell_type": "markdown",
   "metadata": {},
   "source": [
    "## Visualisierung von Umweltmetriken\n",
    "\n",
    "Eine weitere Anforderung war die Visualisierung von Umweltmetriken. Hierzu wird die Erzeugung mit einem Vektor multipliziert. Die genaue Beschreibung der Berechnung, sowie das anlegen einer Chloropleth-Karte wird nachfolgend beschrieben.\n",
    "\n",
    "Die Umweltmetriken lassen sich anschließend im finalen Dashboard betrachten."
   ]
  },
  {
   "cell_type": "markdown",
   "metadata": {},
   "source": [
    "### Umweltbelastung aus den Erzeugungswerten berechnen\n",
    "\n",
    "Die Daten für die Umweltbellastung stehen am NOWUM-Energy Institut in g/kWh zur Verfügung.\n",
    "Mithilfe dieser kann durch Multiplizieren der Generationswerte in kWh/h ein Belastungswert in g/h berechnet werden.\n",
    "\n",
    "Diese Möglichkeit wurde im Dashboard durch Multiplizieren des DataFrames mit einer Pandas Series implementiert.\n",
    "\n",
    "So wurde eine interaktive Karte erzeugt, welche pro Land den gewichteten Belastungswert als durchschnittliche Belastung pro erzeugte kWh berechnet.\n",
    "\n",
    "Dieser berechnet sich durch: \n",
    "\n",
    "$P_{energieform}$ = die Erzeugungskapazität der Energieform in MWh\\\n",
    "$P_{Gesamt}$ = Gesamterzeugungskapazität in MWh\\\n",
    "$C_{metric,energieform}$ = Wert der gewählte Klimametrik pro Energieform\n",
    "\n",
    "$$ \\frac{\\sum_{Erzeugungsarten}{C_{metric}*P_{energieform}}}{P_{Gesamt}}$$\n",
    "\n",
    "Dabei wird die Annahme getroffen, dass die Erzeugungskapazitäten der verschiedenen Energieformen gleichmäßig ausgelastet werden."
   ]
  },
  {
   "cell_type": "markdown",
   "metadata": {},
   "source": [
    "Für eine feinere Berechnung der Metriken lässt sich ebenfalls statt der Verstromten Energie nach Energieform auch die hierzu benötigte Menge $CO_2$ und andere Berechnen.\n",
    "\n",
    "Als Klimakennzahlen stehen hierbei folgende zur Verfügung:\n",
    "\n",
    "* $CO_2$ ohne Vorkette (VK)\n",
    "* $CO_2$ mit Vorkette (VK)\n",
    "* Summe $NO_X$ Wert\n",
    "* Summe Staub\n",
    "* Eigenverbrauch in kWh/erzeugte MWh"
   ]
  },
  {
   "cell_type": "markdown",
   "metadata": {},
   "source": [
    "### Chloropleth-Karte zur Visualisierung von Ländern\n",
    "\n",
    "Die Umrisse von Europäischen Ländern wurden von https://geojson-maps.ash.ms/ heruntergeladen.\n",
    "\n",
    "Diese Visualisierung wird im finalen Dashboard für die Klima-Metriken verwendet."
   ]
  },
  {
   "cell_type": "code",
   "execution_count": null,
   "metadata": {
    "scrolled": false
   },
   "outputs": [],
   "source": [
    "from urllib.request import urlopen\n",
    "import json\n",
    "import pandas as pd\n",
    "countries = ['DE','FR','GR','PL','LU','IT']\n",
    "\n",
    "with open(\"europe.geo.json\", \"r\", encoding=\"utf-8\") as f:\n",
    "    geo = json.load(f)    \n",
    "\n",
    "#geo['features'][0]\n",
    "df = pd.DataFrame()\n",
    "df['countries']=countries\n",
    "df['values']=list(map(lambda x: ord(x[0]),countries))\n",
    "\n",
    "import plotly.express as px\n",
    "\n",
    "fig = px.choropleth_mapbox(df, geojson=geo, locations=\"countries\", color='values',\n",
    "                           color_continuous_scale=\"Jet\",\n",
    "                           featureidkey=\"properties.iso_a2\",\n",
    "                           range_color=(65, 80),\n",
    "                           mapbox_style=\"carto-positron\", # open-street-map\n",
    "                           zoom=3, center = {\"lat\": 50.0902, \"lon\": 10.7129},\n",
    "                           opacity=0.5,\n",
    "                           labels={'values':'Werte'}\n",
    "                          )\n",
    "fig.update_layout(title='Beispielkarte mit Kunstwerten für ausgewählte Länder')\n",
    "fig.show()"
   ]
  },
  {
   "cell_type": "markdown",
   "metadata": {},
   "source": [
    "# Design-Änderung für interaktives Dashboard"
   ]
  },
  {
   "cell_type": "markdown",
   "metadata": {},
   "source": [
    "Die obigen Grafiken sind zwar schon sehr schön, für den täglichen Gebrauch möchte man allerdings ähnlich wie https://energy-charts.info/ die Möglichkeit haben das Zeitintervall und den Betrachtungsraum zusammen zu filtern.\n",
    "\n",
    "Deshalb kam die Idee, sich mit hilfe der Software-Bibliothek Dash, welche auf den oben verwendeten Komponenten der Visualisierungssoftware Plotly aufbaut, ein Dashboard zu basteln."
   ]
  },
  {
   "cell_type": "markdown",
   "metadata": {},
   "source": [
    "Hierzu wurde zunächst überlegt, welche Daten im Dashboard sichtbar sein sollen.\n",
    "Deshalb wurde (auch wenn es in Python unüblich ist) ein Interface für einen DataManager angelegt:"
   ]
  },
  {
   "cell_type": "code",
   "execution_count": null,
   "metadata": {},
   "outputs": [],
   "source": [
    "import inspect\n",
    "from entsoe_data_manager import *\n",
    "lines = inspect.getsource(EntsoeDataManager)\n",
    "print(lines)\n",
    "\n",
    "lines = inspect.getsource(EntsoePlantDataManager)\n",
    "print(lines)"
   ]
  },
  {
   "cell_type": "markdown",
   "metadata": {},
   "source": [
    "Hier wird in einigen Fällen ein Filter übergeben. Dieser enthält ein begin, ende und eine Gruppierung, also eine Feinheit der Daten."
   ]
  },
  {
   "cell_type": "code",
   "execution_count": null,
   "metadata": {},
   "outputs": [],
   "source": [
    "lines = inspect.getsource(Filter)\n",
    "print(lines)"
   ]
  },
  {
   "cell_type": "markdown",
   "metadata": {},
   "source": [
    "Der DataManager wurde nun einmal für SQLite und einmal für Apache Parquet implementiert und ausprobiert.\n",
    "\n",
    "Mit Dash wurde anschließend um den DataManager ein Dashboard gebaut, welches die Daten visualisiert und Interaktionen ermöglicht."
   ]
  },
  {
   "cell_type": "markdown",
   "metadata": {},
   "source": [
    "Dieses Dashboard findet sich hier: \n",
    "\n",
    "https://nicht.datensch.eu\n",
    "\n",
    "oder aus dem FH-Aachen-VPN:\n",
    "\n",
    "https://service-fb9.fh-aachen.de/energy/entsoe"
   ]
  },
  {
   "cell_type": "markdown",
   "metadata": {},
   "source": [
    "# Analysen mithilfe des Data-Managers\n",
    "Der DataManager stellt alle wichtigen statischen Daten, wie auch die täglichen Werte (Generation und Load) zur Verfügung.\n",
    "\n",
    "Dieser deutlich bequemere Abfrage wird nun genutzt um Datenanalysen durchzuführen"
   ]
  },
  {
   "cell_type": "markdown",
   "metadata": {},
   "source": [
    "## Kapazitäten-Vergleich eines Landes mit der Summe zugehöriger Kraftwerke\n",
    "\n",
    "In der Historie haben wir pro Jahr die Kapazitäten nach Produktionsart zur Verfügung.\n",
    "\n",
    "Außerdem sind die Kapazitäten der Kraftwerke jedes Landes bekannt.\n",
    "\n",
    "So müsste die Summe der Kraftwerks-Kapazitäten der Gesamtsumme des Landes entsprechen. Das wird nachfolgend geprüft."
   ]
  },
  {
   "cell_type": "code",
   "execution_count": null,
   "metadata": {},
   "outputs": [],
   "source": [
    "from entsoe_sqlite_manager import EntsoeSQLite, EntsoePlantSQLite, Filter\n",
    "import matplotlib.pyplot as plt\n",
    "import plotly.express as px\n",
    "from datetime import datetime, date, timedelta\n",
    "import pandas as pd"
   ]
  },
  {
   "cell_type": "code",
   "execution_count": null,
   "metadata": {},
   "outputs": [],
   "source": [
    "country = 'NL'\n",
    "dm = EntsoeSQLite('data/entsoe.db')\n",
    "pdm = EntsoePlantSQLite('data/entsoe-plant.db')\n",
    "filt = Filter(datetime(2020, 8, 1), datetime(2020, 9, 2), 'hour')"
   ]
  },
  {
   "cell_type": "code",
   "execution_count": null,
   "metadata": {
    "scrolled": true
   },
   "outputs": [],
   "source": [
    "countries = dm.countries()\n",
    "countries"
   ]
  },
  {
   "cell_type": "code",
   "execution_count": null,
   "metadata": {},
   "outputs": [],
   "source": [
    "# Klimadaten in g pro generierter kWh\n",
    "climate = dm.climateImpact()\n",
    "climate"
   ]
  },
  {
   "cell_type": "markdown",
   "metadata": {},
   "source": [
    "Nun wollen wir einmal die Kapazitätsdaten der Länder mit der SQLite-Abstraktion analysieren:"
   ]
  },
  {
   "cell_type": "code",
   "execution_count": null,
   "metadata": {},
   "outputs": [],
   "source": [
    "def capacities(country):\n",
    "    perCap1 = pdm.capacityPerPlant(country)\n",
    "    perCap1['capacity'] = perCap1['capacity'].astype(float)\n",
    "    perCap = perCap1.groupby('Production_Type').sum()['capacity']\n",
    "\n",
    "    cap = dm.capacity(country)\n",
    "    del cap['country']\n",
    "    c = cap.T\n",
    "\n",
    "    c['2014']=perCap\n",
    "    c = c.T\n",
    "    c.fillna(0,inplace=True)\n",
    "    # 2014 is per capacity. stupid hack\n",
    "    return c"
   ]
  },
  {
   "cell_type": "markdown",
   "metadata": {},
   "source": [
    "Hier sieht man je nach Land deutliche Abweichungen zwischen echten Daten der Jahre und der Summe der Kapazitäten der einzelnen Kraftwerke.\n",
    "\n",
    "Das hängt damit zusammen, dass ehemalige Kraftwerke auch in den Kraftwerkslisten vorhanden sind.\n",
    "Dagegen fehlen andere Verstromungs-Kraftwerke komplett.\n",
    "\n",
    "Die fehlenden Daten unterscheiden sich von Land zu Land sehr.\n",
    "So hat Portugal (PT) sehr schlecht gepflegte Kraftwerksdaten.\n",
    "Bei Spanien sieht es gut aus.\n",
    "\n",
    "Deutschland kann hier nicht evaluiert werden, da es in DE verschiedene Marktgebiete gibt.\n",
    "\n",
    "**Damit die Summe der Kraftwerksdaten (perPlant Kapazität) im selben Diagramm visualisiert wird, wie die Landes-Kapazitäten nach Jahr, wurde ein fiktiver Balken für 2014 verwendet. Die Jahresdaten existieren erst ab 2015**"
   ]
  },
  {
   "cell_type": "code",
   "execution_count": null,
   "metadata": {},
   "outputs": [],
   "source": [
    "country = 'FR'\n",
    "# 2014 is sum of per plant data\n",
    "px.bar(capacities(country)/1000,labels={\n",
    "                     \"value\": \"Erzeugungskapazität in GW\"\n",
    "                 },title=\"Erzeugungskapazitäten \"+country+\"; 2014 ist perPlant Kapazität\")"
   ]
  },
  {
   "cell_type": "code",
   "execution_count": null,
   "metadata": {},
   "outputs": [],
   "source": [
    "# für Deutschland sehr kompliziert/uneindeutig\n",
    "perCap1 = pdm.capacityPerPlant('DE_50HZ')\n",
    "perCap2 = pdm.capacityPerPlant('DE_AMPRION')\n",
    "perCap3 = pdm.capacityPerPlant('DE_LU')\n",
    "perCap = pd.concat([perCap1,perCap2,perCap3])\n",
    "perCap = pdm.capacityPerPlant('DE_AT_LU')\n",
    "perCap['capacity'] = perCap['capacity'].astype(float)\n",
    "perCap = perCap.groupby('Production_Type').sum()['capacity']\n",
    "\n",
    "cap = dm.capacity('DE')\n",
    "del cap['country']\n",
    "c = cap.T\n",
    "\n",
    "c['2014']=perCap\n",
    "c = c.T\n",
    "c.fillna(0,inplace=True)\n",
    "# 2014 is per capacity. stupid hack\n",
    "px.bar(c/1000,labels={\n",
    "                     \"value\": \"Erzeugungskapazität in GW\"\n",
    "                 },title=\"Erzeugungskapazitäten \"+country+\"; 2014 ist perPlant Kapazität\")"
   ]
  },
  {
   "cell_type": "markdown",
   "metadata": {},
   "source": [
    "## Ist Generation der Country = Generation der zugehörigen Plants?\n",
    "\n",
    "Die Erzeugnisse der einzelnen Länder müssten theoretisch der Summe aller Kraftwerke des Landes entsprechen. Das wird hier überprüft"
   ]
  },
  {
   "cell_type": "markdown",
   "metadata": {},
   "source": [
    "So kann man sich die aktuellen Erzeugnisse der einzelnen Kraftwerke vom PlantDataManager holen:"
   ]
  },
  {
   "cell_type": "code",
   "execution_count": null,
   "metadata": {},
   "outputs": [],
   "source": [
    "filt = Filter(datetime(2019, 9, 1), datetime(2020, 9, 2), 'hour')\n",
    "names = pdm.getNames()\n",
    "\n",
    "plantDat = pd.DataFrame()\n",
    "plants = ['GTHKW Nossener Bruecke','DOEL 2', 'TIHANGE 2', 'TIHANGE 1']\n",
    "#for n in plants:\n",
    "#    plantDat[n] = pdm.plantGen([n], filt)['value']\n",
    "plantDat= pdm.plantGen(plants,filt).pivot(columns='name', values='value')\n",
    "\n",
    "plantDat.fillna(0,inplace=True)\n",
    "\n",
    "px.line(plantDat,labels={\n",
    "                     \"value\": \"durchschnittlich eingespeiste Energie in kW\",\n",
    "                 },title=\"Generation per plant\")"
   ]
  },
  {
   "cell_type": "code",
   "execution_count": null,
   "metadata": {},
   "outputs": [],
   "source": [
    "country='ES'\n",
    "filt = Filter(datetime(2020, 3, 1), datetime(2020, 9, 2), 'hour')\n",
    "\n",
    "plants =list(names[names['country']==country]['name'])\n",
    "genDat = pdm.plantGen(plants,filt)\n",
    "sumData= genDat['value'].groupby('time').sum()\n",
    "\n",
    "data = pd.DataFrame(sumData)\n",
    "data['Generation per plant'] = dm.generation(country,filt).sum(axis=1)\n",
    "data.fillna(0,inplace=True)\n",
    "\n",
    "px.line(data,labels={\"value\": \"Generation sum\", \"_value\": 'Energie in kW'\n",
    "                 },title=\"Generation sum vs per Plant for \"+country)"
   ]
  },
  {
   "cell_type": "markdown",
   "metadata": {},
   "source": [
    "Hier fehlen unmengen an Daten.\n",
    "Vermutlich liegt das an Kleinerzeugern, erneuerbaren Energien (Windräder) und sonstigen schlechten Daten.\n",
    "\n",
    "Gehen wir der Sache also auf den Grund:"
   ]
  },
  {
   "cell_type": "code",
   "execution_count": null,
   "metadata": {},
   "outputs": [],
   "source": [
    "country='FR'\n",
    "filt = Filter(datetime(2020, 3, 1), datetime(2020, 9, 2), 'day')\n",
    "\n",
    "plants =list(names[names['country']==country]['name'])\n",
    "genDat = pdm.plantGen(plants,filt)\n",
    "sumData= genDat.groupby(['time','type']).sum('value')\n",
    "gen = dm.generation(country,filt)\n",
    "plantSum =sumData.unstack()\n",
    "plantSum.columns = plantSum.columns.droplevel(0)"
   ]
  },
  {
   "cell_type": "code",
   "execution_count": null,
   "metadata": {
    "scrolled": true
   },
   "outputs": [],
   "source": [
    "plantSum['Hydro Pumped Storage']=-plantSum['Hydro Pumped Storage']\n",
    "for c in  list(plantSum.columns):\n",
    "    d = pd.concat([plantSum[c],gen[c]],axis=1,keys=[\"PlantData \"+c, \"Generation: \"+c])\n",
    "    d.plot(rot=45)"
   ]
  },
  {
   "cell_type": "markdown",
   "metadata": {},
   "source": [
    "Der Unterschied entsteht in Spanien also hauptsächlich durch die Daten in der Solar- und Wasserkraft.\n",
    "\n",
    "Andere Länder (bspw FR) haben jedoch deutlich schlechtere Datenstände"
   ]
  },
  {
   "cell_type": "markdown",
   "metadata": {},
   "source": [
    "## Passt Erzeugung+Import-Export=Load?"
   ]
  },
  {
   "cell_type": "code",
   "execution_count": null,
   "metadata": {},
   "outputs": [],
   "source": [
    "country = 'ES'\n",
    "filt = Filter(datetime(2019, 1, 1), datetime(2020, 2, 2), 'day')\n",
    "\n",
    "neighbours = dm.crossborderFlows(country, filt)\n",
    "load = dm.load(country, filt)\n",
    "generation = dm.generation(country, filt)\n",
    "\n",
    "gen = generation.sum(axis=1)\n",
    "ne = neighbours.sum(axis=1)\n",
    "load['generation']=gen-ne\n",
    "px.line(load,labels={\n",
    "                     \"value\": \"Load in kW\",\n",
    "                     \"generation\": \"Generation and Transfer\", \"_value\": 'Energie in kW'\n",
    "                 },title=\"Load = Generation+Import-Export for \"+country)  "
   ]
  },
  {
   "cell_type": "markdown",
   "metadata": {},
   "source": [
    "Das passt perfekt. Die Daten sind sinnvoll\n",
    "\n",
    "Alles weitere findet sich dann im großen Dashboard:\n",
    "\n",
    "https://nicht.datensch.eu/entsoe\n",
    "\n",
    "oder aus dem FH-Aachen-VPN:\n",
    "\n",
    "https://service-fb9.fh-aachen.de/energy/entsoe"
   ]
  },
  {
   "cell_type": "markdown",
   "metadata": {},
   "source": [
    "\n",
    "# Ausblick\n",
    "\n",
    "Nachfolgend noch ein paar Ideen, deren Umsetzung im Rahmen des zeitlichen Aufwands des Moduls nicht möglich war.\n",
    "\n",
    "## Animation über die Zeit, mit Darstellung der Transfermenge durch die Dicke der Linie\n",
    "\n",
    "Animations-Bibliothek, welche einen Graph auf einer OSM-Karte mit der Zeit animiert?\n",
    "Daten stehen zur Verfügung"
   ]
  },
  {
   "cell_type": "markdown",
   "metadata": {},
   "source": [
    "## Sankey-Diagramm über Gesamt-Generierte Daten und Flüsse zwischen den Ländern\n",
    "\n",
    "Über die Jahre kann man dann eine Art Zustandsdiagramm machen, welcher Staat wie autark ist und wer stets Strom zugeführt bekommen muss.\n",
    "\n",
    "Nach der obigen Erkenntnis, ist eine solche Abhängigkeit allerdings wenig aussagend, da die Export-Richtung oft für Tag eine andere ist als für die Nacht.\n",
    "\n",
    "Energy-charts.info versucht so etwas. Visualisiert den restlichen Export/Usage der Nachbar-Länder nicht.\n",
    "https://energy-charts.info/charts/import_export/chart.htm"
   ]
  },
  {
   "cell_type": "markdown",
   "metadata": {},
   "source": [
    "## Performance-Test des Spark-Clusters \n",
    "\n",
    "Durch einer kurzen Testreihe mit einem lokalen Spark-Client wurde der Einsatz von SQLite begründet. Durch die Verteilung der Datenverarbeitung auf mehrere Knoten, könnte hierbei eventuell eine bessere Performance erlangt werden.\n",
    "\n",
    "Da die Daten bereits in einer sehr guten Form vorhanden sind und SQLite schon wahnsinnig schnell läuft, halte ich große Verbesserungen für sehr unwahrscheinlich"
   ]
  },
  {
   "cell_type": "markdown",
   "metadata": {},
   "source": [
    "## Wie gut ist die Vorhersage der erzeugten Daten? Können wir etwas besseres?\n",
    "\n",
    "ENTSO-E schreibt:\n",
    "> The day-ahead forecast is calculated (estimated) on the historic load profile on similar days, taking into account the variables that affect electricity demand, such as weather conditions, climate and socioeconomic factors.\n",
    "\n",
    "Vielleicht lässt sich mit Machine-Learning ein besseres Modell finden.\n",
    "\n",
    "Problematik: zyklische Trainingsdaten, weniger Daten (Wetter, Klima und Sozioökonomische Daten fehlen)\n",
    "\n",
    "Abweichung der Schätzungen vergleichen"
   ]
  }
 ],
 "metadata": {
  "kernelspec": {
   "display_name": "Python 3",
   "language": "python",
   "name": "python3"
  },
  "language_info": {
   "codemirror_mode": {
    "name": "ipython",
    "version": 3
   },
   "file_extension": ".py",
   "mimetype": "text/x-python",
   "name": "python",
   "nbconvert_exporter": "python",
   "pygments_lexer": "ipython3",
   "version": "3.8.5"
  }
 },
 "nbformat": 4,
 "nbformat_minor": 4
}
